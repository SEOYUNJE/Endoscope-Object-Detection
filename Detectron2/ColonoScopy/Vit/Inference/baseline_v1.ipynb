{
 "cells": [
  {
   "cell_type": "markdown",
   "id": "70b2de27",
   "metadata": {
    "papermill": {
     "duration": 0.004068,
     "end_time": "2025-03-01T15:02:12.629459",
     "exception": false,
     "start_time": "2025-03-01T15:02:12.625391",
     "status": "completed"
    },
    "tags": []
   },
   "source": [
    "## 1. Import Library\n",
    "___"
   ]
  },
  {
   "cell_type": "code",
   "execution_count": 1,
   "id": "31666f15",
   "metadata": {
    "execution": {
     "iopub.execute_input": "2025-03-01T15:02:12.637561Z",
     "iopub.status.busy": "2025-03-01T15:02:12.637243Z",
     "iopub.status.idle": "2025-03-01T15:02:18.440833Z",
     "shell.execute_reply": "2025-03-01T15:02:18.439878Z"
    },
    "papermill": {
     "duration": 5.809635,
     "end_time": "2025-03-01T15:02:18.442654",
     "exception": false,
     "start_time": "2025-03-01T15:02:12.633019",
     "status": "completed"
    },
    "tags": []
   },
   "outputs": [],
   "source": [
    "import os\n",
    "import random\n",
    "import numpy as np \n",
    "import pandas as pd\n",
    "\n",
    "from glob import glob\n",
    "from tqdm import tqdm\n",
    "import pickle \n",
    "\n",
    "import matplotlib.pyplot as plt\n",
    "import seaborn as sns\n",
    "from colorama import Fore\n",
    "\n",
    "from PIL import Image\n",
    "import cv2\n",
    "\n",
    "import torch\n",
    "import torch.nn as nn\n",
    "\n",
    "import warnings\n",
    "warnings.filterwarnings('ignore')"
   ]
  },
  {
   "cell_type": "markdown",
   "id": "aaf150ff",
   "metadata": {
    "papermill": {
     "duration": 0.003221,
     "end_time": "2025-03-01T15:02:18.449749",
     "exception": false,
     "start_time": "2025-03-01T15:02:18.446528",
     "status": "completed"
    },
    "tags": []
   },
   "source": [
    "#### Configuration"
   ]
  },
  {
   "cell_type": "code",
   "execution_count": 2,
   "id": "f7c3a1c1",
   "metadata": {
    "execution": {
     "iopub.execute_input": "2025-03-01T15:02:18.457612Z",
     "iopub.status.busy": "2025-03-01T15:02:18.457156Z",
     "iopub.status.idle": "2025-03-01T15:02:18.512777Z",
     "shell.execute_reply": "2025-03-01T15:02:18.512027Z"
    },
    "papermill": {
     "duration": 0.06095,
     "end_time": "2025-03-01T15:02:18.514089",
     "exception": false,
     "start_time": "2025-03-01T15:02:18.453139",
     "status": "completed"
    },
    "tags": []
   },
   "outputs": [],
   "source": [
    "class CFG:\n",
    "    debug = False\n",
    "    output_dir = 'runs/predict'\n",
    "\n",
    "    seed = 42\n",
    "    img_size = [256,256]\n",
    "    input_format = 'RGB'\n",
    "    imgdir = '/kaggle/input/colonoscopy-256x256-resized-png'\n",
    "\n",
    "    ims_per_batch = 8\n",
    "    num_workers = 4\n",
    "\n",
    "    model_name = 'MViTv2_T' ## Tiny Version\n",
    "\n",
    "    device = 'cuda' if torch.cuda.is_available() else 'cpu'\n",
    "\n",
    "os.makedirs(CFG.output_dir, exist_ok=True)"
   ]
  },
  {
   "cell_type": "markdown",
   "id": "4bb93371",
   "metadata": {
    "papermill": {
     "duration": 0.003141,
     "end_time": "2025-03-01T15:02:18.521000",
     "exception": false,
     "start_time": "2025-03-01T15:02:18.517859",
     "status": "completed"
    },
    "tags": []
   },
   "source": [
    "#### Install Detectron2 Library"
   ]
  },
  {
   "cell_type": "code",
   "execution_count": 3,
   "id": "414b41e1",
   "metadata": {
    "execution": {
     "iopub.execute_input": "2025-03-01T15:02:18.528684Z",
     "iopub.status.busy": "2025-03-01T15:02:18.528416Z",
     "iopub.status.idle": "2025-03-01T15:04:23.575478Z",
     "shell.execute_reply": "2025-03-01T15:04:23.574417Z"
    },
    "papermill": {
     "duration": 125.052943,
     "end_time": "2025-03-01T15:04:23.577198",
     "exception": false,
     "start_time": "2025-03-01T15:02:18.524255",
     "status": "completed"
    },
    "tags": []
   },
   "outputs": [
    {
     "name": "stdout",
     "output_type": "stream",
     "text": [
      "  Preparing metadata (setup.py) ... \u001b[?25l\u001b[?25hdone\r\n",
      "\u001b[2K     \u001b[90m━━━━━━━━━━━━━━━━━━━━━━━━━━━━━━━━━━━━━━━━\u001b[0m \u001b[32m50.2/50.2 kB\u001b[0m \u001b[31m2.3 MB/s\u001b[0m eta \u001b[36m0:00:00\u001b[0m\r\n",
      "\u001b[?25h  Preparing metadata (setup.py) ... \u001b[?25l\u001b[?25hdone\r\n",
      "\u001b[2K     \u001b[90m━━━━━━━━━━━━━━━━━━━━━━━━━━━━━━━━━━━━━━━━\u001b[0m \u001b[32m81.3/81.3 kB\u001b[0m \u001b[31m4.6 MB/s\u001b[0m eta \u001b[36m0:00:00\u001b[0m\r\n",
      "\u001b[2K   \u001b[90m━━━━━━━━━━━━━━━━━━━━━━━━━━━━━━━━━━━━━━━━\u001b[0m \u001b[32m154.5/154.5 kB\u001b[0m \u001b[31m10.6 MB/s\u001b[0m eta \u001b[36m0:00:00\u001b[0m\r\n",
      "\u001b[2K   \u001b[90m━━━━━━━━━━━━━━━━━━━━━━━━━━━━━━━━━━━━━━━━\u001b[0m \u001b[32m1.8/1.8 MB\u001b[0m \u001b[31m45.5 MB/s\u001b[0m eta \u001b[36m0:00:00\u001b[0m\r\n",
      "\u001b[?25h  Building wheel for detectron2 (setup.py) ... \u001b[?25l\u001b[?25hdone\r\n",
      "  Building wheel for fvcore (setup.py) ... \u001b[?25l\u001b[?25hdone\r\n"
     ]
    }
   ],
   "source": [
    "!python -m pip install -q 'git+https://github.com/facebookresearch/detectron2.git'"
   ]
  },
  {
   "cell_type": "markdown",
   "id": "573171e2",
   "metadata": {
    "papermill": {
     "duration": 0.003744,
     "end_time": "2025-03-01T15:04:23.585379",
     "exception": false,
     "start_time": "2025-03-01T15:04:23.581635",
     "status": "completed"
    },
    "tags": []
   },
   "source": [
    "## 2. Build Dataset_dicts\n",
    "___\n",
    "\n",
    "- **궤양**: `ulcer(label: 0)`\n",
    "\n",
    "- **용종**: `polyp(label: 1)`\n",
    "\n",
    "- **암**: `cancer(label: 2)`"
   ]
  },
  {
   "cell_type": "code",
   "execution_count": 4,
   "id": "2af4e28e",
   "metadata": {
    "execution": {
     "iopub.execute_input": "2025-03-01T15:04:23.593874Z",
     "iopub.status.busy": "2025-03-01T15:04:23.593594Z",
     "iopub.status.idle": "2025-03-01T15:04:23.688090Z",
     "shell.execute_reply": "2025-03-01T15:04:23.687339Z"
    },
    "papermill": {
     "duration": 0.10026,
     "end_time": "2025-03-01T15:04:23.689364",
     "exception": false,
     "start_time": "2025-03-01T15:04:23.589104",
     "status": "completed"
    },
    "tags": []
   },
   "outputs": [
    {
     "name": "stdout",
     "output_type": "stream",
     "text": [
      "Shape of DataFrame:  (2496, 14)\n"
     ]
    },
    {
     "data": {
      "text/html": [
       "<div>\n",
       "<style scoped>\n",
       "    .dataframe tbody tr th:only-of-type {\n",
       "        vertical-align: middle;\n",
       "    }\n",
       "\n",
       "    .dataframe tbody tr th {\n",
       "        vertical-align: top;\n",
       "    }\n",
       "\n",
       "    .dataframe thead th {\n",
       "        text-align: right;\n",
       "    }\n",
       "</style>\n",
       "<table border=\"1\" class=\"dataframe\">\n",
       "  <thead>\n",
       "    <tr style=\"text-align: right;\">\n",
       "      <th></th>\n",
       "      <th>image_id</th>\n",
       "      <th>height</th>\n",
       "      <th>width</th>\n",
       "      <th>organ</th>\n",
       "      <th>lesion_label</th>\n",
       "      <th>location</th>\n",
       "      <th>shape_type_polygon</th>\n",
       "      <th>polygon_mask</th>\n",
       "      <th>bounding_box_shape</th>\n",
       "      <th>x_min</th>\n",
       "      <th>y_min</th>\n",
       "      <th>x_max</th>\n",
       "      <th>y_max</th>\n",
       "      <th>lesion</th>\n",
       "    </tr>\n",
       "  </thead>\n",
       "  <tbody>\n",
       "    <tr>\n",
       "      <th>0</th>\n",
       "      <td>2_1_00001.png</td>\n",
       "      <td>2048</td>\n",
       "      <td>2048</td>\n",
       "      <td>colonoscopy</td>\n",
       "      <td>0</td>\n",
       "      <td>1</td>\n",
       "      <td>polygon</td>\n",
       "      <td>1484.52,775.16;1516.82,710.56;1519.30,640.99;1...</td>\n",
       "      <td>rectangle</td>\n",
       "      <td>838.559006</td>\n",
       "      <td>149.068323</td>\n",
       "      <td>1519.304348</td>\n",
       "      <td>807.453416</td>\n",
       "      <td>ulcer</td>\n",
       "    </tr>\n",
       "    <tr>\n",
       "      <th>1</th>\n",
       "      <td>2_1_00001.png</td>\n",
       "      <td>2048</td>\n",
       "      <td>2048</td>\n",
       "      <td>colonoscopy</td>\n",
       "      <td>0</td>\n",
       "      <td>1</td>\n",
       "      <td>polygon</td>\n",
       "      <td>1663.40,1478.26;1653.47,1426.09;1616.20,1388.8...</td>\n",
       "      <td>rectangle</td>\n",
       "      <td>1310.608696</td>\n",
       "      <td>1324.223602</td>\n",
       "      <td>1663.403727</td>\n",
       "      <td>1868.322981</td>\n",
       "      <td>ulcer</td>\n",
       "    </tr>\n",
       "    <tr>\n",
       "      <th>2</th>\n",
       "      <td>2_1_00002.png</td>\n",
       "      <td>2048</td>\n",
       "      <td>2048</td>\n",
       "      <td>colonoscopy</td>\n",
       "      <td>0</td>\n",
       "      <td>1</td>\n",
       "      <td>polygon</td>\n",
       "      <td>687.01,223.60;687.01,273.29;704.40,337.89;726....</td>\n",
       "      <td>rectangle</td>\n",
       "      <td>687.006211</td>\n",
       "      <td>168.944099</td>\n",
       "      <td>1591.354037</td>\n",
       "      <td>1465.838509</td>\n",
       "      <td>ulcer</td>\n",
       "    </tr>\n",
       "    <tr>\n",
       "      <th>3</th>\n",
       "      <td>2_1_00002.png</td>\n",
       "      <td>2048</td>\n",
       "      <td>2048</td>\n",
       "      <td>colonoscopy</td>\n",
       "      <td>0</td>\n",
       "      <td>1</td>\n",
       "      <td>polygon</td>\n",
       "      <td>826.14,1200.00;878.31,1207.45;932.97,1187.58;9...</td>\n",
       "      <td>rectangle</td>\n",
       "      <td>488.248447</td>\n",
       "      <td>434.782609</td>\n",
       "      <td>1007.503106</td>\n",
       "      <td>1207.453416</td>\n",
       "      <td>ulcer</td>\n",
       "    </tr>\n",
       "    <tr>\n",
       "      <th>4</th>\n",
       "      <td>2_1_00002.png</td>\n",
       "      <td>2048</td>\n",
       "      <td>2048</td>\n",
       "      <td>colonoscopy</td>\n",
       "      <td>0</td>\n",
       "      <td>1</td>\n",
       "      <td>polygon</td>\n",
       "      <td>575.20,1038.51;520.55,1050.93;468.37,1050.93;4...</td>\n",
       "      <td>rectangle</td>\n",
       "      <td>212.472050</td>\n",
       "      <td>725.465839</td>\n",
       "      <td>607.503106</td>\n",
       "      <td>1050.931677</td>\n",
       "      <td>ulcer</td>\n",
       "    </tr>\n",
       "  </tbody>\n",
       "</table>\n",
       "</div>"
      ],
      "text/plain": [
       "        image_id  height  width        organ  lesion_label  location  \\\n",
       "0  2_1_00001.png    2048   2048  colonoscopy             0         1   \n",
       "1  2_1_00001.png    2048   2048  colonoscopy             0         1   \n",
       "2  2_1_00002.png    2048   2048  colonoscopy             0         1   \n",
       "3  2_1_00002.png    2048   2048  colonoscopy             0         1   \n",
       "4  2_1_00002.png    2048   2048  colonoscopy             0         1   \n",
       "\n",
       "  shape_type_polygon                                       polygon_mask  \\\n",
       "0            polygon  1484.52,775.16;1516.82,710.56;1519.30,640.99;1...   \n",
       "1            polygon  1663.40,1478.26;1653.47,1426.09;1616.20,1388.8...   \n",
       "2            polygon  687.01,223.60;687.01,273.29;704.40,337.89;726....   \n",
       "3            polygon  826.14,1200.00;878.31,1207.45;932.97,1187.58;9...   \n",
       "4            polygon  575.20,1038.51;520.55,1050.93;468.37,1050.93;4...   \n",
       "\n",
       "  bounding_box_shape        x_min        y_min        x_max        y_max  \\\n",
       "0          rectangle   838.559006   149.068323  1519.304348   807.453416   \n",
       "1          rectangle  1310.608696  1324.223602  1663.403727  1868.322981   \n",
       "2          rectangle   687.006211   168.944099  1591.354037  1465.838509   \n",
       "3          rectangle   488.248447   434.782609  1007.503106  1207.453416   \n",
       "4          rectangle   212.472050   725.465839   607.503106  1050.931677   \n",
       "\n",
       "  lesion  \n",
       "0  ulcer  \n",
       "1  ulcer  \n",
       "2  ulcer  \n",
       "3  ulcer  \n",
       "4  ulcer  "
      ]
     },
     "execution_count": 4,
     "metadata": {},
     "output_type": "execute_result"
    }
   ],
   "source": [
    "meta_data = pd.read_csv('/kaggle/input/metadataset/colonoscopy_data2.csv')\n",
    "print('Shape of DataFrame: ', meta_data.shape)\n",
    "meta_data.head()"
   ]
  },
  {
   "cell_type": "code",
   "execution_count": 5,
   "id": "a9ca9a2e",
   "metadata": {
    "execution": {
     "iopub.execute_input": "2025-03-01T15:04:23.698948Z",
     "iopub.status.busy": "2025-03-01T15:04:23.698710Z",
     "iopub.status.idle": "2025-03-01T15:04:23.707848Z",
     "shell.execute_reply": "2025-03-01T15:04:23.707230Z"
    },
    "papermill": {
     "duration": 0.01523,
     "end_time": "2025-03-01T15:04:23.708968",
     "exception": false,
     "start_time": "2025-03-01T15:04:23.693738",
     "status": "completed"
    },
    "tags": []
   },
   "outputs": [],
   "source": [
    "thing_classes = [\n",
    "    'Ulcer',\n",
    "    'Polyp',\n",
    "    'Cancer',\n",
    "]\n",
    "\n",
    "category_id_to_name = {index: class_name for index,class_name in enumerate(thing_classes) }\n",
    "\n",
    "meta_data['lesion'] = meta_data['lesion_label'].map(category_id_to_name)"
   ]
  },
  {
   "cell_type": "code",
   "execution_count": 6,
   "id": "7f6eccc6",
   "metadata": {
    "execution": {
     "iopub.execute_input": "2025-03-01T15:04:23.718113Z",
     "iopub.status.busy": "2025-03-01T15:04:23.717863Z",
     "iopub.status.idle": "2025-03-01T15:04:23.745020Z",
     "shell.execute_reply": "2025-03-01T15:04:23.744085Z"
    },
    "papermill": {
     "duration": 0.033256,
     "end_time": "2025-03-01T15:04:23.746498",
     "exception": false,
     "start_time": "2025-03-01T15:04:23.713242",
     "status": "completed"
    },
    "tags": []
   },
   "outputs": [],
   "source": [
    "test_id = [x.split('/')[-1] for x in glob('/kaggle/input/colonoscopy-256x256-resized-png/test/*.png')] \n",
    "test_df = meta_data[meta_data['image_id'].isin(test_id)]\n",
    "test_df = test_df.sort_values(by='image_id').reset_index(drop=True)"
   ]
  },
  {
   "cell_type": "code",
   "execution_count": 7,
   "id": "4784aa1d",
   "metadata": {
    "execution": {
     "iopub.execute_input": "2025-03-01T15:04:23.756098Z",
     "iopub.status.busy": "2025-03-01T15:04:23.755828Z",
     "iopub.status.idle": "2025-03-01T15:04:28.105661Z",
     "shell.execute_reply": "2025-03-01T15:04:28.104950Z"
    },
    "papermill": {
     "duration": 4.356257,
     "end_time": "2025-03-01T15:04:28.107157",
     "exception": false,
     "start_time": "2025-03-01T15:04:23.750900",
     "status": "completed"
    },
    "tags": []
   },
   "outputs": [],
   "source": [
    "from detectron2.structures import BoxMode\n",
    "\n",
    "def get_colonoscopy_dicts(\n",
    "    imgdir,\n",
    "    df,\n",
    "    mode = 'test',\n",
    "    use_cache=True,\n",
    "    debug = True,\n",
    "    target_indices = None\n",
    "):\n",
    "    debug_str = f'_debug{int(debug)}'\n",
    "    cache_path = f'/kaggle/working/dataset_dicts_cache_{mode}{debug_str}.pkl'\n",
    "    \n",
    "    if not use_cache or not os.path.exists(cache_path):\n",
    "       print(f'{Fore.RED}#'* 25)\n",
    "       print(f'### Creating {mode} Data...')\n",
    "       print('#' * 25)\n",
    "\n",
    "       meta_df = pd.read_csv(f'/kaggle/input/colonoscopy-256x256-resized-png/{mode}_meta.csv')\n",
    "\n",
    "       if debug:\n",
    "           meta_df = meta_df[:500]\n",
    "\n",
    "       resized_height = CFG.img_size[1]\n",
    "       resized_width = CFG.img_size[0]\n",
    "       print(f'=> Height of Image: {resized_height}')\n",
    "       print(f'=> Width of Image: {resized_width}')\n",
    "\n",
    "       dataset_dicts = []\n",
    "       for _, (image_id, height, width) in tqdm(meta_df.iterrows(), total=len(meta_df), desc='Build Dataset Dict'):\n",
    "           record = {}\n",
    "           record['file_name'] = os.path.join(imgdir,mode,image_id)\n",
    "           record['image_id'] = image_id\n",
    "           record['height'] = resized_height\n",
    "           record['width'] = resized_width\n",
    "\n",
    "           objs = []\n",
    "           for _, row in df[df.image_id == image_id].iterrows():\n",
    "               class_id = row['lesion_label']\n",
    "\n",
    "               h_ratio = resized_height / height\n",
    "               w_ratio = resized_width / width\n",
    "\n",
    "               bbox_resized = [\n",
    "                      row['x_min'] * w_ratio,\n",
    "                      row['y_min'] * h_ratio,\n",
    "                      row['x_max'] * w_ratio,\n",
    "                      row['y_max'] * h_ratio,\n",
    "                  ]\n",
    "\n",
    "               obj = {\n",
    "                     'bbox': bbox_resized,\n",
    "                     'bbox_mode': BoxMode.XYXY_ABS,\n",
    "                     'category_id': class_id,\n",
    "                  }\n",
    "               objs.append(obj)\n",
    "               \n",
    "           record['annotations'] = objs\n",
    "           dataset_dicts.append(record)\n",
    "           \n",
    "       with open(cache_path, mode='wb') as f:\n",
    "           pickle.dump(dataset_dicts, f)\n",
    "\n",
    "    with open(cache_path, mode='rb') as f:\n",
    "        dataset_dicts = pickle.load(f)\n",
    "\n",
    "    if target_indices is not None:\n",
    "        dataset_dicts = [dataset_dicts[i] for i in target_indices]\n",
    "\n",
    "    return dataset_dicts"
   ]
  },
  {
   "cell_type": "code",
   "execution_count": 8,
   "id": "7f9880c6",
   "metadata": {
    "execution": {
     "iopub.execute_input": "2025-03-01T15:04:28.116522Z",
     "iopub.status.busy": "2025-03-01T15:04:28.116094Z",
     "iopub.status.idle": "2025-03-01T15:04:28.336361Z",
     "shell.execute_reply": "2025-03-01T15:04:28.335658Z"
    },
    "papermill": {
     "duration": 0.22643,
     "end_time": "2025-03-01T15:04:28.337930",
     "exception": false,
     "start_time": "2025-03-01T15:04:28.111500",
     "status": "completed"
    },
    "tags": []
   },
   "outputs": [],
   "source": [
    "import detectron2\n",
    "from detectron2.data import DatasetCatalog, MetadataCatalog"
   ]
  },
  {
   "cell_type": "code",
   "execution_count": 9,
   "id": "55142f86",
   "metadata": {
    "execution": {
     "iopub.execute_input": "2025-03-01T15:04:28.347488Z",
     "iopub.status.busy": "2025-03-01T15:04:28.347200Z",
     "iopub.status.idle": "2025-03-01T15:04:28.352405Z",
     "shell.execute_reply": "2025-03-01T15:04:28.351744Z"
    },
    "papermill": {
     "duration": 0.011319,
     "end_time": "2025-03-01T15:04:28.353768",
     "exception": false,
     "start_time": "2025-03-01T15:04:28.342449",
     "status": "completed"
    },
    "tags": []
   },
   "outputs": [
    {
     "data": {
      "text/plain": [
       "namespace(name='colonoscopy_test', thing_classes=['Ulcer', 'Polyp', 'Cancer'])"
      ]
     },
     "execution_count": 9,
     "metadata": {},
     "output_type": "execute_result"
    }
   ],
   "source": [
    "DatasetCatalog.register(\n",
    "    'colonoscopy_test',\n",
    "     lambda: get_colonoscopy_dicts(CFG.imgdir, test_df, mode='test', debug=CFG.debug)\n",
    ")\n",
    "\n",
    "MetadataCatalog.get('colonoscopy_test').set(thing_classes=thing_classes)"
   ]
  },
  {
   "cell_type": "code",
   "execution_count": 10,
   "id": "cb2a1863",
   "metadata": {
    "execution": {
     "iopub.execute_input": "2025-03-01T15:04:28.363121Z",
     "iopub.status.busy": "2025-03-01T15:04:28.362900Z",
     "iopub.status.idle": "2025-03-01T15:04:28.794125Z",
     "shell.execute_reply": "2025-03-01T15:04:28.793238Z"
    },
    "papermill": {
     "duration": 0.437498,
     "end_time": "2025-03-01T15:04:28.795561",
     "exception": false,
     "start_time": "2025-03-01T15:04:28.358063",
     "status": "completed"
    },
    "tags": []
   },
   "outputs": [
    {
     "name": "stdout",
     "output_type": "stream",
     "text": [
      "\u001b[31m#\u001b[31m#\u001b[31m#\u001b[31m#\u001b[31m#\u001b[31m#\u001b[31m#\u001b[31m#\u001b[31m#\u001b[31m#\u001b[31m#\u001b[31m#\u001b[31m#\u001b[31m#\u001b[31m#\u001b[31m#\u001b[31m#\u001b[31m#\u001b[31m#\u001b[31m#\u001b[31m#\u001b[31m#\u001b[31m#\u001b[31m#\u001b[31m#\n",
      "### Creating test Data...\n",
      "#########################\n",
      "=> Height of Image: 256\n",
      "=> Width of Image: 256\n"
     ]
    },
    {
     "name": "stderr",
     "output_type": "stream",
     "text": [
      "Build Dataset Dict: 100%|██████████| 400/400 [00:00<00:00, 1702.20it/s]\n"
     ]
    }
   ],
   "source": [
    "dataset_dicts = DatasetCatalog.get('colonoscopy_test')"
   ]
  },
  {
   "cell_type": "markdown",
   "id": "4a517724",
   "metadata": {
    "papermill": {
     "duration": 0.004266,
     "end_time": "2025-03-01T15:04:28.804633",
     "exception": false,
     "start_time": "2025-03-01T15:04:28.800367",
     "status": "completed"
    },
    "tags": []
   },
   "source": [
    "## 4. Inference\n",
    "___"
   ]
  },
  {
   "cell_type": "code",
   "execution_count": 11,
   "id": "17b8cd70",
   "metadata": {
    "execution": {
     "iopub.execute_input": "2025-03-01T15:04:28.814249Z",
     "iopub.status.busy": "2025-03-01T15:04:28.813965Z",
     "iopub.status.idle": "2025-03-01T15:04:29.071935Z",
     "shell.execute_reply": "2025-03-01T15:04:29.071244Z"
    },
    "papermill": {
     "duration": 0.264524,
     "end_time": "2025-03-01T15:04:29.073554",
     "exception": false,
     "start_time": "2025-03-01T15:04:28.809030",
     "status": "completed"
    },
    "tags": []
   },
   "outputs": [],
   "source": [
    "from detectron2 import model_zoo \n",
    "from detectron2.config import get_cfg, LazyConfig, instantiate\n",
    "from detectron2.config import LazyCall as L\n",
    "from detectron2.modeling import MViT\n",
    "from omegaconf import OmegaConf\n",
    "from functools import partial\n",
    "import detectron2.data.transforms as T"
   ]
  },
  {
   "cell_type": "code",
   "execution_count": 12,
   "id": "644e0655",
   "metadata": {
    "execution": {
     "iopub.execute_input": "2025-03-01T15:04:29.083872Z",
     "iopub.status.busy": "2025-03-01T15:04:29.083595Z",
     "iopub.status.idle": "2025-03-01T15:04:29.101457Z",
     "shell.execute_reply": "2025-03-01T15:04:29.100765Z"
    },
    "papermill": {
     "duration": 0.024272,
     "end_time": "2025-03-01T15:04:29.102772",
     "exception": false,
     "start_time": "2025-03-01T15:04:29.078500",
     "status": "completed"
    },
    "tags": []
   },
   "outputs": [],
   "source": [
    "from detectron2.evaluation import (\n",
    "     COCOEvaluator,\n",
    "     inference_on_dataset)\n",
    "\n",
    "from detectron2.data import (\n",
    "    build_detection_test_loader,\n",
    "    DatasetMapper,\n",
    "    get_detection_dataset_dicts)\n",
    "\n",
    "from detectron2.checkpoint import DetectionCheckpointer"
   ]
  },
  {
   "cell_type": "code",
   "execution_count": 13,
   "id": "0fee67c7",
   "metadata": {
    "execution": {
     "iopub.execute_input": "2025-03-01T15:04:29.113451Z",
     "iopub.status.busy": "2025-03-01T15:04:29.113136Z",
     "iopub.status.idle": "2025-03-01T15:04:29.180037Z",
     "shell.execute_reply": "2025-03-01T15:04:29.179092Z"
    },
    "papermill": {
     "duration": 0.074025,
     "end_time": "2025-03-01T15:04:29.181630",
     "exception": false,
     "start_time": "2025-03-01T15:04:29.107605",
     "status": "completed"
    },
    "tags": []
   },
   "outputs": [],
   "source": [
    "\"\"\"Model LazyConfig\"\"\"\n",
    "model = model_zoo.get_config(\"common/models/mask_rcnn_fpn.py\").model\n",
    "model.input_format = CFG.input_format\n",
    "\n",
    "model.backbone.bottom_up = L(MViT)(\n",
    "    embed_dim=96,\n",
    "    depth=10,\n",
    "    num_heads=1,\n",
    "    last_block_indexes=(0, 2, 7, 9),\n",
    "    residual_pooling=True,\n",
    "    drop_path_rate=0.2,\n",
    "    norm_layer=partial(nn.LayerNorm, eps=1e-6),\n",
    "    out_features=(\"scale2\", \"scale3\", \"scale4\", \"scale5\"),\n",
    "    )\n",
    "model.backbone.in_features = \"${.bottom_up.out_features}\"\n",
    "\n",
    "#### Model RPN \n",
    "model.proposal_generator.in_features = ['p2','p3','p4','p5','p6']\n",
    "model.proposal_generator.anchor_generator.sizes = [[16], [32], [64], [128], [256]]\n",
    "model.proposal_generator.anchor_generator.aspect_ratios = [0.5, 1.0, 2.0]\n",
    "model.proposal_generator.anchor_generator.offset = 0.5\n",
    "model.proposal_generator.anchor_matcher.thresholds = [0.3, 0.7]\n",
    "model.proposal_generator.batch_size_per_image = 256\n",
    "model.proposal_generator.pre_nms_topk = [2000, 1000]\n",
    "model.proposal_generator.post_nms_topk = [1000, 1000]\n",
    "    \n",
    "#### Model ROI\n",
    "model.roi_heads.num_classes = len(thing_classes)\n",
    "model.roi_heads.batch_size_per_image = 512\n",
    "model.roi_heads.box_in_features = ['p2','p3','p4','p5']\n",
    "model.roi_heads.box_pooler.output_size = 7\n",
    "model.roi_heads.box_pooler.pooler_type = 'ROIAlignV2'\n",
    "model.roi_heads.proposal_matcher.thresholds = [0.5]\n",
    "model.roi_heads.box_predictor.test_score_thresh = 0.0\n",
    "\n",
    "cfg = OmegaConf.create()\n",
    "cfg.model = model"
   ]
  },
  {
   "cell_type": "code",
   "execution_count": 14,
   "id": "f7f9fa58",
   "metadata": {
    "execution": {
     "iopub.execute_input": "2025-03-01T15:04:29.191979Z",
     "iopub.status.busy": "2025-03-01T15:04:29.191704Z",
     "iopub.status.idle": "2025-03-01T15:05:02.454980Z",
     "shell.execute_reply": "2025-03-01T15:05:02.454120Z"
    },
    "papermill": {
     "duration": 33.269812,
     "end_time": "2025-03-01T15:05:02.456408",
     "exception": false,
     "start_time": "2025-03-01T15:04:29.186596",
     "status": "completed"
    },
    "tags": []
   },
   "outputs": [
    {
     "name": "stdout",
     "output_type": "stream",
     "text": [
      "Loading and preparing results...\n",
      "DONE (t=0.03s)\n",
      "creating index...\n",
      "index created!\n",
      " Average Precision  (AP) @[ IoU=0.50:0.95 | area=   all | maxDets=100 ] = 0.366\n",
      " Average Precision  (AP) @[ IoU=0.50      | area=   all | maxDets=100 ] = 0.677\n",
      " Average Precision  (AP) @[ IoU=0.75      | area=   all | maxDets=100 ] = 0.334\n",
      " Average Precision  (AP) @[ IoU=0.50:0.95 | area= small | maxDets=100 ] = 0.224\n",
      " Average Precision  (AP) @[ IoU=0.50:0.95 | area=medium | maxDets=100 ] = 0.385\n",
      " Average Precision  (AP) @[ IoU=0.50:0.95 | area= large | maxDets=100 ] = 0.371\n",
      " Average Recall     (AR) @[ IoU=0.50:0.95 | area=   all | maxDets=  1 ] = 0.401\n",
      " Average Recall     (AR) @[ IoU=0.50:0.95 | area=   all | maxDets= 10 ] = 0.499\n",
      " Average Recall     (AR) @[ IoU=0.50:0.95 | area=   all | maxDets=100 ] = 0.539\n",
      " Average Recall     (AR) @[ IoU=0.50:0.95 | area= small | maxDets=100 ] = 0.346\n",
      " Average Recall     (AR) @[ IoU=0.50:0.95 | area=medium | maxDets=100 ] = 0.552\n",
      " Average Recall     (AR) @[ IoU=0.50:0.95 | area= large | maxDets=100 ] = 0.551\n"
     ]
    }
   ],
   "source": [
    "evaluator = COCOEvaluator(\"colonoscopy_test\", (\"bbox\",), False, output_dir=os.path.join(CFG.output_dir, 'inference'))\n",
    "\n",
    "test_loader = build_detection_test_loader(\n",
    "      dataset = get_detection_dataset_dicts(names='colonoscopy_test'),\n",
    "      mapper=DatasetMapper(is_train=False, image_format=CFG.input_format,\n",
    "                           augmentations = [T.ResizeScale(min_scale=1.0, \n",
    "                                                          max_scale=1.0, \n",
    "                                                          target_width=CFG.img_size[0],\n",
    "                                                          target_height=CFG.img_size[1])]),\n",
    "      batch_size = CFG.ims_per_batch,\n",
    "      num_workers = CFG.num_workers,\n",
    "      )\n",
    "\n",
    "## Build and Load Model\n",
    "model = instantiate(cfg.model)\n",
    "DetectionCheckpointer(model, save_dir=CFG.output_dir).resume_or_load(\n",
    "            '/kaggle/input/colonoscopy-mvidet/runs/detect/model_final.pth', resume=False\n",
    "        )\n",
    "model.to(CFG.device)\n",
    "model.eval()\n",
    "\n",
    "## Evaluate Metrics\n",
    "result = inference_on_dataset(model, test_loader, evaluator)"
   ]
  }
 ],
 "metadata": {
  "kaggle": {
   "accelerator": "gpu",
   "dataSources": [
    {
     "datasetId": 6496283,
     "sourceId": 10532735,
     "sourceType": "datasetVersion"
    },
    {
     "datasetId": 6481029,
     "sourceId": 10590444,
     "sourceType": "datasetVersion"
    },
    {
     "datasetId": 6764351,
     "sourceId": 10890240,
     "sourceType": "datasetVersion"
    }
   ],
   "dockerImageVersionId": 30918,
   "isGpuEnabled": true,
   "isInternetEnabled": true,
   "language": "python",
   "sourceType": "notebook"
  },
  "kernelspec": {
   "display_name": "Python 3",
   "language": "python",
   "name": "python3"
  },
  "language_info": {
   "codemirror_mode": {
    "name": "ipython",
    "version": 3
   },
   "file_extension": ".py",
   "mimetype": "text/x-python",
   "name": "python",
   "nbconvert_exporter": "python",
   "pygments_lexer": "ipython3",
   "version": "3.10.12"
  },
  "papermill": {
   "default_parameters": {},
   "duration": 174.978443,
   "end_time": "2025-03-01T15:05:04.937125",
   "environment_variables": {},
   "exception": null,
   "input_path": "__notebook__.ipynb",
   "output_path": "__notebook__.ipynb",
   "parameters": {},
   "start_time": "2025-03-01T15:02:09.958682",
   "version": "2.6.0"
  }
 },
 "nbformat": 4,
 "nbformat_minor": 5
}
