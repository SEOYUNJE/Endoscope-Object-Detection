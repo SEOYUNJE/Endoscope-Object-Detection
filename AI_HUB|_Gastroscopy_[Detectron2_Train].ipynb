{
  "metadata": {
    "kernelspec": {
      "display_name": "Python 3",
      "name": "python3"
    },
    "language_info": {
      "name": "python",
      "version": "3.10.12",
      "mimetype": "text/x-python",
      "codemirror_mode": {
        "name": "ipython",
        "version": 3
      },
      "pygments_lexer": "ipython3",
      "nbconvert_exporter": "python",
      "file_extension": ".py"
    },
    "kaggle": {
      "accelerator": "gpu",
      "dataSources": [
        {
          "sourceId": 10532726,
          "sourceType": "datasetVersion",
          "datasetId": 6504880
        },
        {
          "sourceId": 10590467,
          "sourceType": "datasetVersion",
          "datasetId": 6554433
        },
        {
          "sourceId": 10657342,
          "sourceType": "datasetVersion",
          "datasetId": 6599419
        }
      ],
      "dockerImageVersionId": 30839,
      "isInternetEnabled": true,
      "language": "python",
      "sourceType": "notebook",
      "isGpuEnabled": true
    },
    "colab": {
      "name": "AI HUB| Gastroscopy  [Detectron2 Train]",
      "provenance": [],
      "gpuType": "T4",
      "include_colab_link": true
    },
    "accelerator": "GPU"
  },
  "nbformat_minor": 0,
  "nbformat": 4,
  "cells": [
    {
      "cell_type": "markdown",
      "metadata": {
        "id": "view-in-github",
        "colab_type": "text"
      },
      "source": [
        "<a href=\"https://colab.research.google.com/github/SEOYUNJE/Endoscope-Object-Detection/blob/main/AI_HUB%7C_Gastroscopy_%5BDetectron2_Train%5D.ipynb\" target=\"_parent\"><img src=\"https://colab.research.google.com/assets/colab-badge.svg\" alt=\"Open In Colab\"/></a>"
      ]
    },
    {
      "cell_type": "code",
      "source": [
        "!pip install -q opendatasets\n",
        "import opendatasets as od\n",
        "od.download('https://www.kaggle.com/datasets/msyu78/gastroscopy-meta')\n",
        "od.download('https://www.kaggle.com/datasets/seoyunje/gastroscopy-512x512-resized-png')"
      ],
      "metadata": {
        "id": "iPMMAMnogBxU",
        "outputId": "8602cfdb-18ab-40d0-80a5-22fa83bc0551",
        "colab": {
          "base_uri": "https://localhost:8080/"
        }
      },
      "execution_count": 1,
      "outputs": [
        {
          "output_type": "stream",
          "name": "stdout",
          "text": [
            "Skipping, found downloaded files in \"./gastroscopy-meta\" (use force=True to force download)\n",
            "Skipping, found downloaded files in \"./gastroscopy-512x512-resized-png\" (use force=True to force download)\n"
          ]
        }
      ]
    },
    {
      "cell_type": "markdown",
      "source": [
        "## 1. Import Library\n",
        "___"
      ],
      "metadata": {
        "id": "h_79DUqNf7uO"
      }
    },
    {
      "cell_type": "code",
      "source": [
        "!pip install -q colorama"
      ],
      "metadata": {
        "id": "X8G5XWtihUII"
      },
      "execution_count": 2,
      "outputs": []
    },
    {
      "cell_type": "code",
      "source": [
        "import os\n",
        "import sys\n",
        "import pickle\n",
        "import random\n",
        "import gc\n",
        "import ctypes\n",
        "import copy\n",
        "\n",
        "from glob import glob\n",
        "from tqdm import tqdm\n",
        "\n",
        "import numpy as np\n",
        "import pandas as pd\n",
        "import matplotlib.pyplot as plt\n",
        "from matplotlib.patches import Rectangle\n",
        "import seaborn as sns\n",
        "from colorama import Fore\n",
        "\n",
        "from PIL import Image\n",
        "import cv2\n",
        "\n",
        "import torch\n",
        "import torch.nn as nn\n",
        "import torch.functional as F\n",
        "\n",
        "from sklearn.model_selection import KFold, GroupKFold, StratifiedKFold\n",
        "\n",
        "import warnings\n",
        "warnings.filterwarnings('ignore')\n",
        "\n",
        "print(f'{Fore.GREEN}=> Installed Necessary Library')"
      ],
      "metadata": {
        "trusted": true,
        "execution": {
          "iopub.status.busy": "2025-02-04T13:28:27.789208Z",
          "iopub.execute_input": "2025-02-04T13:28:27.789497Z",
          "iopub.status.idle": "2025-02-04T13:28:33.331324Z",
          "shell.execute_reply.started": "2025-02-04T13:28:27.789473Z",
          "shell.execute_reply": "2025-02-04T13:28:33.330348Z"
        },
        "id": "oaQvaaijf7uP",
        "outputId": "377dcc3a-a2d1-424d-9a34-553f3275ee62",
        "colab": {
          "base_uri": "https://localhost:8080/"
        }
      },
      "outputs": [
        {
          "output_type": "stream",
          "name": "stdout",
          "text": [
            "\u001b[32m=> Installed Necessary Library\n"
          ]
        }
      ],
      "execution_count": 3
    },
    {
      "cell_type": "markdown",
      "source": [
        "### Configuration"
      ],
      "metadata": {
        "id": "cYS1shNhf7uQ"
      }
    },
    {
      "cell_type": "code",
      "source": [
        "class CFG:\n",
        "    debug = False\n",
        "    output_dir = 'runs/detect'\n",
        "    seed = 42\n",
        "    train_ds = 'gastroscopy_train'\n",
        "\n",
        "    img_size = [512,512]\n",
        "    input_format = 'BGR'\n",
        "    imgdir = '/content/gastroscopy-512x512-resized-png'\n",
        "    mapper_type = 'albu' # 'detectron2'\n",
        "\n",
        "    split_mode = 'valid20'\n",
        "    max_iter = 5000 # default 40_000\n",
        "    ims_per_batch = 8\n",
        "    num_workers = 4\n",
        "\n",
        "    lr_scheduler_name = 'WarmupCosineLR' # WarmupMultiStepLR\n",
        "    base_lr = 5e-3 # default: 1e-3\n",
        "    base_lr_end = 1e-12 / base_lr# default: 0\n",
        "    weight_decay = 5e-5 # default 1e-4\n",
        "    warmup_factor = base_lr*0.1 # default: 1e-3\n",
        "    warmup_iters = max_iter // 20 # default: 1_000\n",
        "    eval_period = max_iter * 10\n",
        "    amp = True # Auto Mixed Precision\n",
        "\n",
        "    device = 'cuda' if torch.cuda.is_available() else 'cpu'\n",
        "\n",
        "os.makedirs(CFG.output_dir, exist_ok=True)"
      ],
      "metadata": {
        "trusted": true,
        "execution": {
          "iopub.status.busy": "2025-02-04T13:28:33.332471Z",
          "iopub.execute_input": "2025-02-04T13:28:33.333033Z",
          "iopub.status.idle": "2025-02-04T13:28:33.387711Z",
          "shell.execute_reply.started": "2025-02-04T13:28:33.332998Z",
          "shell.execute_reply": "2025-02-04T13:28:33.386671Z"
        },
        "id": "VQco9s5zf7uR"
      },
      "outputs": [],
      "execution_count": 4
    },
    {
      "cell_type": "markdown",
      "source": [
        "### Reproducibility"
      ],
      "metadata": {
        "id": "GN65kOlrf7uS"
      }
    },
    {
      "cell_type": "code",
      "source": [
        "def seed_everything(seed):\n",
        "    np.random.seed(seed)\n",
        "    random.seed(seed)\n",
        "    torch.manual_seed(seed)\n",
        "    torch.cuda.manual_seed(seed)\n",
        "    torch.backends.cudnn.deterministic = True\n",
        "    torch.backends.cudnn.benchmark= False\n",
        "\n",
        "    os.environ['PYTHONHASHSEED'] = str(seed)\n",
        "\n",
        "seed_everything(CFG.seed)"
      ],
      "metadata": {
        "trusted": true,
        "execution": {
          "iopub.status.busy": "2025-02-04T13:28:33.388622Z",
          "iopub.execute_input": "2025-02-04T13:28:33.388903Z",
          "iopub.status.idle": "2025-02-04T13:28:33.408453Z",
          "shell.execute_reply.started": "2025-02-04T13:28:33.388879Z",
          "shell.execute_reply": "2025-02-04T13:28:33.407671Z"
        },
        "id": "iNotwIKrf7uT"
      },
      "outputs": [],
      "execution_count": 5
    },
    {
      "cell_type": "markdown",
      "source": [
        "### Clean_Memory"
      ],
      "metadata": {
        "id": "sjHQH2Utf7uT"
      }
    },
    {
      "cell_type": "code",
      "source": [
        "def clean_memory():\n",
        "    ctypes.CDLL('libc.so.6').malloc_trim(0)\n",
        "    gc.collect()\n",
        "\n",
        "clean_memory()"
      ],
      "metadata": {
        "trusted": true,
        "execution": {
          "iopub.status.busy": "2025-02-04T13:28:33.410146Z",
          "iopub.execute_input": "2025-02-04T13:28:33.410427Z",
          "iopub.status.idle": "2025-02-04T13:28:33.534511Z",
          "shell.execute_reply.started": "2025-02-04T13:28:33.410405Z",
          "shell.execute_reply": "2025-02-04T13:28:33.533595Z"
        },
        "id": "_lBCYYmzf7uU"
      },
      "outputs": [],
      "execution_count": 6
    },
    {
      "cell_type": "markdown",
      "source": [
        "### Install Detectron Library"
      ],
      "metadata": {
        "id": "lS38HmqQf7uW"
      }
    },
    {
      "cell_type": "code",
      "source": [
        "print(f'=> {Fore.GREEN}Installing Detectron2 Library...' )\n",
        "!python -m pip install -q 'git+https://github.com/facebookresearch/detectron2.git'\n",
        "\n",
        "## Or, to install it from a local clone:\n",
        "# !git clone https://github.com/facebookresearch/detectron2.git\n",
        "# !python -m pip install -e detectron2"
      ],
      "metadata": {
        "trusted": true,
        "execution": {
          "iopub.status.busy": "2025-02-04T13:28:33.535943Z",
          "iopub.execute_input": "2025-02-04T13:28:33.536229Z",
          "iopub.status.idle": "2025-02-04T13:30:37.920134Z",
          "shell.execute_reply.started": "2025-02-04T13:28:33.536199Z",
          "shell.execute_reply": "2025-02-04T13:30:37.919296Z"
        },
        "id": "Pr4NQRcEf7uX",
        "outputId": "ad9f6b1e-03c1-48b6-9eba-d8d3a4ef7498",
        "colab": {
          "base_uri": "https://localhost:8080/"
        }
      },
      "outputs": [
        {
          "output_type": "stream",
          "name": "stdout",
          "text": [
            "=> \u001b[32mInstalling Detectron2 Library...\n",
            "  Preparing metadata (setup.py) ... \u001b[?25l\u001b[?25hdone\n",
            "\u001b[2K     \u001b[90m━━━━━━━━━━━━━━━━━━━━━━━━━━━━━━━━━━━━━━━━\u001b[0m \u001b[32m50.2/50.2 kB\u001b[0m \u001b[31m2.9 MB/s\u001b[0m eta \u001b[36m0:00:00\u001b[0m\n",
            "\u001b[?25h  Preparing metadata (setup.py) ... \u001b[?25l\u001b[?25hdone\n",
            "\u001b[2K     \u001b[90m━━━━━━━━━━━━━━━━━━━━━━━━━━━━━━━━━━━━━━━━\u001b[0m \u001b[32m81.3/81.3 kB\u001b[0m \u001b[31m3.4 MB/s\u001b[0m eta \u001b[36m0:00:00\u001b[0m\n",
            "\u001b[2K     \u001b[90m━━━━━━━━━━━━━━━━━━━━━━━━━━━━━━━━━━━━━━━━\u001b[0m \u001b[32m117.0/117.0 kB\u001b[0m \u001b[31m8.0 MB/s\u001b[0m eta \u001b[36m0:00:00\u001b[0m\n",
            "\u001b[?25h  Preparing metadata (setup.py) ... \u001b[?25l\u001b[?25hdone\n",
            "\u001b[2K   \u001b[90m━━━━━━━━━━━━━━━━━━━━━━━━━━━━━━━━━━━━━━━━\u001b[0m \u001b[32m154.5/154.5 kB\u001b[0m \u001b[31m13.9 MB/s\u001b[0m eta \u001b[36m0:00:00\u001b[0m\n",
            "\u001b[2K   \u001b[90m━━━━━━━━━━━━━━━━━━━━━━━━━━━━━━━━━━━━━━━━\u001b[0m \u001b[32m79.5/79.5 kB\u001b[0m \u001b[31m8.1 MB/s\u001b[0m eta \u001b[36m0:00:00\u001b[0m\n",
            "\u001b[2K   \u001b[90m━━━━━━━━━━━━━━━━━━━━━━━━━━━━━━━━━━━━━━━━\u001b[0m \u001b[32m1.7/1.7 MB\u001b[0m \u001b[31m38.3 MB/s\u001b[0m eta \u001b[36m0:00:00\u001b[0m\n",
            "\u001b[?25h  Building wheel for detectron2 (setup.py) ... \u001b[?25l\u001b[?25hdone\n",
            "  Building wheel for fvcore (setup.py) ... \u001b[?25l\u001b[?25hdone\n",
            "  Building wheel for antlr4-python3-runtime (setup.py) ... \u001b[?25l\u001b[?25hdone\n"
          ]
        }
      ],
      "execution_count": 7
    },
    {
      "cell_type": "markdown",
      "source": [
        "## 2. Build Dataset_Dicts\n",
        "___\n",
        "\n",
        "- **궤양**: `ulcer(label: 0)`\n",
        "\n",
        "- **용종**: `polyp(label: 1)`\n",
        "\n",
        "- **암**: `cancer(label: 2)`"
      ],
      "metadata": {
        "id": "zj5p3SS8f7uX"
      }
    },
    {
      "cell_type": "code",
      "source": [
        "meta_data = pd.read_csv('/content/gastroscopy-meta/gastroscopy_data2.csv')\n",
        "print('Shape of DataFrame: ', meta_data.shape)\n",
        "meta_data.head()"
      ],
      "metadata": {
        "trusted": true,
        "execution": {
          "iopub.status.busy": "2025-02-04T13:30:37.921248Z",
          "iopub.execute_input": "2025-02-04T13:30:37.921515Z",
          "iopub.status.idle": "2025-02-04T13:30:38.0282Z",
          "shell.execute_reply.started": "2025-02-04T13:30:37.92149Z",
          "shell.execute_reply": "2025-02-04T13:30:38.027519Z"
        },
        "id": "50yuFS4cf7uX",
        "outputId": "3317312b-61ae-45b8-aac9-a8cbe43d8341",
        "colab": {
          "base_uri": "https://localhost:8080/",
          "height": 244
        }
      },
      "outputs": [
        {
          "output_type": "stream",
          "name": "stdout",
          "text": [
            "Shape of DataFrame:  (2915, 14)\n"
          ]
        },
        {
          "output_type": "execute_result",
          "data": {
            "text/plain": [
              "        image_id  height  width        organ  lesion_label  location  \\\n",
              "0  1_1_00011.png    2048   2048  gastroscopy             0         1   \n",
              "1  1_1_00011.png    2048   2048  gastroscopy             0         1   \n",
              "2  1_1_00014.png    2048   2048  gastroscopy             0         1   \n",
              "3  1_1_00017.png    2048   2048  gastroscopy             0         1   \n",
              "4  1_1_00018.png    2048   2048  gastroscopy             0         1   \n",
              "\n",
              "  shape_type_polygon                                       polygon_mask  \\\n",
              "0            polygon  1257.45,738.30;1212.77,748.94;1168.09,748.94;1...   \n",
              "1            polygon  1421.28,955.32;1387.23,985.11;1368.09,1025.53;...   \n",
              "2            polygon  1065.96,1110.64;1040.43,1148.94;1010.64,1182.9...   \n",
              "3            polygon  1246.30,514.89;1197.36,508.51;1154.81,502.13;1...   \n",
              "4            polygon  1397.36,389.36;1352.68,382.98;1314.38,404.26;1...   \n",
              "\n",
              "  bounding_box_shape        x_min       y_min        x_max        y_max lesion  \n",
              "0          rectangle   763.829787  365.957447  1304.255319   748.936170  ulcer  \n",
              "1          rectangle  1148.936170  897.872340  1421.276596  1082.978723  ulcer  \n",
              "2          rectangle   521.276596  561.702128  1078.723404  1225.531915  ulcer  \n",
              "3          rectangle   884.595745  502.127660  1376.085106   753.191489  ulcer  \n",
              "4          rectangle  1161.191489  382.978723  1654.808511  1074.468085  ulcer  "
            ],
            "text/html": [
              "\n",
              "  <div id=\"df-082d5697-541e-4373-8da8-dbc20759c170\" class=\"colab-df-container\">\n",
              "    <div>\n",
              "<style scoped>\n",
              "    .dataframe tbody tr th:only-of-type {\n",
              "        vertical-align: middle;\n",
              "    }\n",
              "\n",
              "    .dataframe tbody tr th {\n",
              "        vertical-align: top;\n",
              "    }\n",
              "\n",
              "    .dataframe thead th {\n",
              "        text-align: right;\n",
              "    }\n",
              "</style>\n",
              "<table border=\"1\" class=\"dataframe\">\n",
              "  <thead>\n",
              "    <tr style=\"text-align: right;\">\n",
              "      <th></th>\n",
              "      <th>image_id</th>\n",
              "      <th>height</th>\n",
              "      <th>width</th>\n",
              "      <th>organ</th>\n",
              "      <th>lesion_label</th>\n",
              "      <th>location</th>\n",
              "      <th>shape_type_polygon</th>\n",
              "      <th>polygon_mask</th>\n",
              "      <th>bounding_box_shape</th>\n",
              "      <th>x_min</th>\n",
              "      <th>y_min</th>\n",
              "      <th>x_max</th>\n",
              "      <th>y_max</th>\n",
              "      <th>lesion</th>\n",
              "    </tr>\n",
              "  </thead>\n",
              "  <tbody>\n",
              "    <tr>\n",
              "      <th>0</th>\n",
              "      <td>1_1_00011.png</td>\n",
              "      <td>2048</td>\n",
              "      <td>2048</td>\n",
              "      <td>gastroscopy</td>\n",
              "      <td>0</td>\n",
              "      <td>1</td>\n",
              "      <td>polygon</td>\n",
              "      <td>1257.45,738.30;1212.77,748.94;1168.09,748.94;1...</td>\n",
              "      <td>rectangle</td>\n",
              "      <td>763.829787</td>\n",
              "      <td>365.957447</td>\n",
              "      <td>1304.255319</td>\n",
              "      <td>748.936170</td>\n",
              "      <td>ulcer</td>\n",
              "    </tr>\n",
              "    <tr>\n",
              "      <th>1</th>\n",
              "      <td>1_1_00011.png</td>\n",
              "      <td>2048</td>\n",
              "      <td>2048</td>\n",
              "      <td>gastroscopy</td>\n",
              "      <td>0</td>\n",
              "      <td>1</td>\n",
              "      <td>polygon</td>\n",
              "      <td>1421.28,955.32;1387.23,985.11;1368.09,1025.53;...</td>\n",
              "      <td>rectangle</td>\n",
              "      <td>1148.936170</td>\n",
              "      <td>897.872340</td>\n",
              "      <td>1421.276596</td>\n",
              "      <td>1082.978723</td>\n",
              "      <td>ulcer</td>\n",
              "    </tr>\n",
              "    <tr>\n",
              "      <th>2</th>\n",
              "      <td>1_1_00014.png</td>\n",
              "      <td>2048</td>\n",
              "      <td>2048</td>\n",
              "      <td>gastroscopy</td>\n",
              "      <td>0</td>\n",
              "      <td>1</td>\n",
              "      <td>polygon</td>\n",
              "      <td>1065.96,1110.64;1040.43,1148.94;1010.64,1182.9...</td>\n",
              "      <td>rectangle</td>\n",
              "      <td>521.276596</td>\n",
              "      <td>561.702128</td>\n",
              "      <td>1078.723404</td>\n",
              "      <td>1225.531915</td>\n",
              "      <td>ulcer</td>\n",
              "    </tr>\n",
              "    <tr>\n",
              "      <th>3</th>\n",
              "      <td>1_1_00017.png</td>\n",
              "      <td>2048</td>\n",
              "      <td>2048</td>\n",
              "      <td>gastroscopy</td>\n",
              "      <td>0</td>\n",
              "      <td>1</td>\n",
              "      <td>polygon</td>\n",
              "      <td>1246.30,514.89;1197.36,508.51;1154.81,502.13;1...</td>\n",
              "      <td>rectangle</td>\n",
              "      <td>884.595745</td>\n",
              "      <td>502.127660</td>\n",
              "      <td>1376.085106</td>\n",
              "      <td>753.191489</td>\n",
              "      <td>ulcer</td>\n",
              "    </tr>\n",
              "    <tr>\n",
              "      <th>4</th>\n",
              "      <td>1_1_00018.png</td>\n",
              "      <td>2048</td>\n",
              "      <td>2048</td>\n",
              "      <td>gastroscopy</td>\n",
              "      <td>0</td>\n",
              "      <td>1</td>\n",
              "      <td>polygon</td>\n",
              "      <td>1397.36,389.36;1352.68,382.98;1314.38,404.26;1...</td>\n",
              "      <td>rectangle</td>\n",
              "      <td>1161.191489</td>\n",
              "      <td>382.978723</td>\n",
              "      <td>1654.808511</td>\n",
              "      <td>1074.468085</td>\n",
              "      <td>ulcer</td>\n",
              "    </tr>\n",
              "  </tbody>\n",
              "</table>\n",
              "</div>\n",
              "    <div class=\"colab-df-buttons\">\n",
              "\n",
              "  <div class=\"colab-df-container\">\n",
              "    <button class=\"colab-df-convert\" onclick=\"convertToInteractive('df-082d5697-541e-4373-8da8-dbc20759c170')\"\n",
              "            title=\"Convert this dataframe to an interactive table.\"\n",
              "            style=\"display:none;\">\n",
              "\n",
              "  <svg xmlns=\"http://www.w3.org/2000/svg\" height=\"24px\" viewBox=\"0 -960 960 960\">\n",
              "    <path d=\"M120-120v-720h720v720H120Zm60-500h600v-160H180v160Zm220 220h160v-160H400v160Zm0 220h160v-160H400v160ZM180-400h160v-160H180v160Zm440 0h160v-160H620v160ZM180-180h160v-160H180v160Zm440 0h160v-160H620v160Z\"/>\n",
              "  </svg>\n",
              "    </button>\n",
              "\n",
              "  <style>\n",
              "    .colab-df-container {\n",
              "      display:flex;\n",
              "      gap: 12px;\n",
              "    }\n",
              "\n",
              "    .colab-df-convert {\n",
              "      background-color: #E8F0FE;\n",
              "      border: none;\n",
              "      border-radius: 50%;\n",
              "      cursor: pointer;\n",
              "      display: none;\n",
              "      fill: #1967D2;\n",
              "      height: 32px;\n",
              "      padding: 0 0 0 0;\n",
              "      width: 32px;\n",
              "    }\n",
              "\n",
              "    .colab-df-convert:hover {\n",
              "      background-color: #E2EBFA;\n",
              "      box-shadow: 0px 1px 2px rgba(60, 64, 67, 0.3), 0px 1px 3px 1px rgba(60, 64, 67, 0.15);\n",
              "      fill: #174EA6;\n",
              "    }\n",
              "\n",
              "    .colab-df-buttons div {\n",
              "      margin-bottom: 4px;\n",
              "    }\n",
              "\n",
              "    [theme=dark] .colab-df-convert {\n",
              "      background-color: #3B4455;\n",
              "      fill: #D2E3FC;\n",
              "    }\n",
              "\n",
              "    [theme=dark] .colab-df-convert:hover {\n",
              "      background-color: #434B5C;\n",
              "      box-shadow: 0px 1px 3px 1px rgba(0, 0, 0, 0.15);\n",
              "      filter: drop-shadow(0px 1px 2px rgba(0, 0, 0, 0.3));\n",
              "      fill: #FFFFFF;\n",
              "    }\n",
              "  </style>\n",
              "\n",
              "    <script>\n",
              "      const buttonEl =\n",
              "        document.querySelector('#df-082d5697-541e-4373-8da8-dbc20759c170 button.colab-df-convert');\n",
              "      buttonEl.style.display =\n",
              "        google.colab.kernel.accessAllowed ? 'block' : 'none';\n",
              "\n",
              "      async function convertToInteractive(key) {\n",
              "        const element = document.querySelector('#df-082d5697-541e-4373-8da8-dbc20759c170');\n",
              "        const dataTable =\n",
              "          await google.colab.kernel.invokeFunction('convertToInteractive',\n",
              "                                                    [key], {});\n",
              "        if (!dataTable) return;\n",
              "\n",
              "        const docLinkHtml = 'Like what you see? Visit the ' +\n",
              "          '<a target=\"_blank\" href=https://colab.research.google.com/notebooks/data_table.ipynb>data table notebook</a>'\n",
              "          + ' to learn more about interactive tables.';\n",
              "        element.innerHTML = '';\n",
              "        dataTable['output_type'] = 'display_data';\n",
              "        await google.colab.output.renderOutput(dataTable, element);\n",
              "        const docLink = document.createElement('div');\n",
              "        docLink.innerHTML = docLinkHtml;\n",
              "        element.appendChild(docLink);\n",
              "      }\n",
              "    </script>\n",
              "  </div>\n",
              "\n",
              "\n",
              "<div id=\"df-5cdcab69-9ad8-4fbc-985a-b15c50bd7fcd\">\n",
              "  <button class=\"colab-df-quickchart\" onclick=\"quickchart('df-5cdcab69-9ad8-4fbc-985a-b15c50bd7fcd')\"\n",
              "            title=\"Suggest charts\"\n",
              "            style=\"display:none;\">\n",
              "\n",
              "<svg xmlns=\"http://www.w3.org/2000/svg\" height=\"24px\"viewBox=\"0 0 24 24\"\n",
              "     width=\"24px\">\n",
              "    <g>\n",
              "        <path d=\"M19 3H5c-1.1 0-2 .9-2 2v14c0 1.1.9 2 2 2h14c1.1 0 2-.9 2-2V5c0-1.1-.9-2-2-2zM9 17H7v-7h2v7zm4 0h-2V7h2v10zm4 0h-2v-4h2v4z\"/>\n",
              "    </g>\n",
              "</svg>\n",
              "  </button>\n",
              "\n",
              "<style>\n",
              "  .colab-df-quickchart {\n",
              "      --bg-color: #E8F0FE;\n",
              "      --fill-color: #1967D2;\n",
              "      --hover-bg-color: #E2EBFA;\n",
              "      --hover-fill-color: #174EA6;\n",
              "      --disabled-fill-color: #AAA;\n",
              "      --disabled-bg-color: #DDD;\n",
              "  }\n",
              "\n",
              "  [theme=dark] .colab-df-quickchart {\n",
              "      --bg-color: #3B4455;\n",
              "      --fill-color: #D2E3FC;\n",
              "      --hover-bg-color: #434B5C;\n",
              "      --hover-fill-color: #FFFFFF;\n",
              "      --disabled-bg-color: #3B4455;\n",
              "      --disabled-fill-color: #666;\n",
              "  }\n",
              "\n",
              "  .colab-df-quickchart {\n",
              "    background-color: var(--bg-color);\n",
              "    border: none;\n",
              "    border-radius: 50%;\n",
              "    cursor: pointer;\n",
              "    display: none;\n",
              "    fill: var(--fill-color);\n",
              "    height: 32px;\n",
              "    padding: 0;\n",
              "    width: 32px;\n",
              "  }\n",
              "\n",
              "  .colab-df-quickchart:hover {\n",
              "    background-color: var(--hover-bg-color);\n",
              "    box-shadow: 0 1px 2px rgba(60, 64, 67, 0.3), 0 1px 3px 1px rgba(60, 64, 67, 0.15);\n",
              "    fill: var(--button-hover-fill-color);\n",
              "  }\n",
              "\n",
              "  .colab-df-quickchart-complete:disabled,\n",
              "  .colab-df-quickchart-complete:disabled:hover {\n",
              "    background-color: var(--disabled-bg-color);\n",
              "    fill: var(--disabled-fill-color);\n",
              "    box-shadow: none;\n",
              "  }\n",
              "\n",
              "  .colab-df-spinner {\n",
              "    border: 2px solid var(--fill-color);\n",
              "    border-color: transparent;\n",
              "    border-bottom-color: var(--fill-color);\n",
              "    animation:\n",
              "      spin 1s steps(1) infinite;\n",
              "  }\n",
              "\n",
              "  @keyframes spin {\n",
              "    0% {\n",
              "      border-color: transparent;\n",
              "      border-bottom-color: var(--fill-color);\n",
              "      border-left-color: var(--fill-color);\n",
              "    }\n",
              "    20% {\n",
              "      border-color: transparent;\n",
              "      border-left-color: var(--fill-color);\n",
              "      border-top-color: var(--fill-color);\n",
              "    }\n",
              "    30% {\n",
              "      border-color: transparent;\n",
              "      border-left-color: var(--fill-color);\n",
              "      border-top-color: var(--fill-color);\n",
              "      border-right-color: var(--fill-color);\n",
              "    }\n",
              "    40% {\n",
              "      border-color: transparent;\n",
              "      border-right-color: var(--fill-color);\n",
              "      border-top-color: var(--fill-color);\n",
              "    }\n",
              "    60% {\n",
              "      border-color: transparent;\n",
              "      border-right-color: var(--fill-color);\n",
              "    }\n",
              "    80% {\n",
              "      border-color: transparent;\n",
              "      border-right-color: var(--fill-color);\n",
              "      border-bottom-color: var(--fill-color);\n",
              "    }\n",
              "    90% {\n",
              "      border-color: transparent;\n",
              "      border-bottom-color: var(--fill-color);\n",
              "    }\n",
              "  }\n",
              "</style>\n",
              "\n",
              "  <script>\n",
              "    async function quickchart(key) {\n",
              "      const quickchartButtonEl =\n",
              "        document.querySelector('#' + key + ' button');\n",
              "      quickchartButtonEl.disabled = true;  // To prevent multiple clicks.\n",
              "      quickchartButtonEl.classList.add('colab-df-spinner');\n",
              "      try {\n",
              "        const charts = await google.colab.kernel.invokeFunction(\n",
              "            'suggestCharts', [key], {});\n",
              "      } catch (error) {\n",
              "        console.error('Error during call to suggestCharts:', error);\n",
              "      }\n",
              "      quickchartButtonEl.classList.remove('colab-df-spinner');\n",
              "      quickchartButtonEl.classList.add('colab-df-quickchart-complete');\n",
              "    }\n",
              "    (() => {\n",
              "      let quickchartButtonEl =\n",
              "        document.querySelector('#df-5cdcab69-9ad8-4fbc-985a-b15c50bd7fcd button');\n",
              "      quickchartButtonEl.style.display =\n",
              "        google.colab.kernel.accessAllowed ? 'block' : 'none';\n",
              "    })();\n",
              "  </script>\n",
              "</div>\n",
              "\n",
              "    </div>\n",
              "  </div>\n"
            ],
            "application/vnd.google.colaboratory.intrinsic+json": {
              "type": "dataframe",
              "variable_name": "meta_data",
              "summary": "{\n  \"name\": \"meta_data\",\n  \"rows\": 2915,\n  \"fields\": [\n    {\n      \"column\": \"image_id\",\n      \"properties\": {\n        \"dtype\": \"string\",\n        \"num_unique_values\": 1997,\n        \"samples\": [\n          \"1_1_02622.png\",\n          \"1_1_03661.png\",\n          \"1_1_03148.png\"\n        ],\n        \"semantic_type\": \"\",\n        \"description\": \"\"\n      }\n    },\n    {\n      \"column\": \"height\",\n      \"properties\": {\n        \"dtype\": \"number\",\n        \"std\": 0,\n        \"min\": 2048,\n        \"max\": 2048,\n        \"num_unique_values\": 1,\n        \"samples\": [\n          2048\n        ],\n        \"semantic_type\": \"\",\n        \"description\": \"\"\n      }\n    },\n    {\n      \"column\": \"width\",\n      \"properties\": {\n        \"dtype\": \"number\",\n        \"std\": 0,\n        \"min\": 2048,\n        \"max\": 2048,\n        \"num_unique_values\": 1,\n        \"samples\": [\n          2048\n        ],\n        \"semantic_type\": \"\",\n        \"description\": \"\"\n      }\n    },\n    {\n      \"column\": \"organ\",\n      \"properties\": {\n        \"dtype\": \"category\",\n        \"num_unique_values\": 1,\n        \"samples\": [\n          \"gastroscopy\"\n        ],\n        \"semantic_type\": \"\",\n        \"description\": \"\"\n      }\n    },\n    {\n      \"column\": \"lesion_label\",\n      \"properties\": {\n        \"dtype\": \"number\",\n        \"std\": 0,\n        \"min\": 0,\n        \"max\": 2,\n        \"num_unique_values\": 3,\n        \"samples\": [\n          0\n        ],\n        \"semantic_type\": \"\",\n        \"description\": \"\"\n      }\n    },\n    {\n      \"column\": \"location\",\n      \"properties\": {\n        \"dtype\": \"number\",\n        \"std\": 0,\n        \"min\": 1,\n        \"max\": 1,\n        \"num_unique_values\": 1,\n        \"samples\": [\n          1\n        ],\n        \"semantic_type\": \"\",\n        \"description\": \"\"\n      }\n    },\n    {\n      \"column\": \"shape_type_polygon\",\n      \"properties\": {\n        \"dtype\": \"category\",\n        \"num_unique_values\": 1,\n        \"samples\": [\n          \"polygon\"\n        ],\n        \"semantic_type\": \"\",\n        \"description\": \"\"\n      }\n    },\n    {\n      \"column\": \"polygon_mask\",\n      \"properties\": {\n        \"dtype\": \"string\",\n        \"num_unique_values\": 2911,\n        \"samples\": [\n          \"18.64,774.47;61.19,757.45;105.87,757.45;148.43,763.83;188.85,782.98;229.28,800.00;280.34,806.38;327.15,802.13;371.83,802.13;416.51,800.00;461.19,806.38;505.87,808.51;548.43,793.62;588.85,778.72;631.40,768.09;676.09,759.57;725.02,748.94;769.70,740.43;818.64,740.43;863.32,740.43;914.38,740.43;965.45,751.06;1012.26,757.45;1056.94,757.45;1108.00,759.57;1159.06,759.57;1205.87,753.19;1250.55,746.81;1297.36,736.17;1339.91,729.79;1382.47,729.79;1425.02,738.30;1467.57,751.06;1512.26,765.96;1554.81,774.47;1599.49,789.36;1639.91,806.38;1684.60,819.15;1733.53,831.91;1778.21,842.55;1827.15,851.06;1871.83,853.19;1914.38,853.19;1988.85,842.55;2044.00,840.00;2044.00,1288.00;1993.11,1297.87;1948.43,1312.77;1914.38,1342.55;1882.47,1378.72;1848.43,1412.77;1805.87,1425.53;1756.94,1442.55;1710.13,1470.21;1671.83,1500.00;1639.91,1536.17;1612.26,1576.60;1584.60,1610.64;1550.55,1644.68;1510.13,1668.09;1461.19,1672.34;1418.64,1672.34;1371.83,1663.83;1329.28,1646.81;1288.85,1627.66;1246.30,1614.89;1199.49,1606.38;1156.94,1595.74;1114.38,1585.11;1054.81,1578.72;1005.87,1585.11;959.06,1591.49;914.38,1602.13;871.83,1614.89;829.28,1627.66;788.85,1642.55;746.30,1653.19;699.49,1665.96;656.94,1676.60;612.26,1689.36;565.45,1697.87;520.77,1704.26;473.96,1706.38;431.40,1714.89;388.85,1723.40;346.30,1736.17;305.87,1753.19;261.19,1770.21;218.64,1782.98;188.85,1797.87;0.00,1612.00;0.00,784.00\"\n        ],\n        \"semantic_type\": \"\",\n        \"description\": \"\"\n      }\n    },\n    {\n      \"column\": \"bounding_box_shape\",\n      \"properties\": {\n        \"dtype\": \"category\",\n        \"num_unique_values\": 1,\n        \"samples\": [\n          \"rectangle\"\n        ],\n        \"semantic_type\": \"\",\n        \"description\": \"\"\n      }\n    },\n    {\n      \"column\": \"x_min\",\n      \"properties\": {\n        \"dtype\": \"number\",\n        \"std\": 512.0623646605579,\n        \"min\": 0.0,\n        \"max\": 1983.183183,\n        \"num_unique_values\": 2446,\n        \"samples\": [\n          1411.904762\n        ],\n        \"semantic_type\": \"\",\n        \"description\": \"\"\n      }\n    },\n    {\n      \"column\": \"y_min\",\n      \"properties\": {\n        \"dtype\": \"number\",\n        \"std\": 438.1084315224529,\n        \"min\": 118.0,\n        \"max\": 1869.683258,\n        \"num_unique_values\": 2246,\n        \"samples\": [\n          1088.930582\n        ],\n        \"semantic_type\": \"\",\n        \"description\": \"\"\n      }\n    },\n    {\n      \"column\": \"x_max\",\n      \"properties\": {\n        \"dtype\": \"number\",\n        \"std\": 513.7200051429434,\n        \"min\": 48.90282132,\n        \"max\": 2048.0,\n        \"num_unique_values\": 2320,\n        \"samples\": [\n          1343.262411\n        ],\n        \"semantic_type\": \"\",\n        \"description\": \"\"\n      }\n    },\n    {\n      \"column\": \"y_max\",\n      \"properties\": {\n        \"dtype\": \"number\",\n        \"std\": 456.3257437815601,\n        \"min\": 177.2357724,\n        \"max\": 1974.494624,\n        \"num_unique_values\": 2365,\n        \"samples\": [\n          1920.737327\n        ],\n        \"semantic_type\": \"\",\n        \"description\": \"\"\n      }\n    },\n    {\n      \"column\": \"lesion\",\n      \"properties\": {\n        \"dtype\": \"category\",\n        \"num_unique_values\": 3,\n        \"samples\": [\n          \"ulcer\"\n        ],\n        \"semantic_type\": \"\",\n        \"description\": \"\"\n      }\n    }\n  ]\n}"
            }
          },
          "metadata": {},
          "execution_count": 8
        }
      ],
      "execution_count": 8
    },
    {
      "cell_type": "code",
      "source": [
        "thing_classes = [\n",
        "    'Ulcer',\n",
        "    'Polyp',\n",
        "    'Cancer',\n",
        "]\n",
        "\n",
        "category_id_to_name = {index: class_name for index,class_name in enumerate(thing_classes) }\n",
        "\n",
        "meta_data['lesion'] = meta_data['lesion_label'].map(category_id_to_name)"
      ],
      "metadata": {
        "trusted": true,
        "execution": {
          "iopub.status.busy": "2025-02-04T13:30:38.028938Z",
          "iopub.execute_input": "2025-02-04T13:30:38.029243Z",
          "iopub.status.idle": "2025-02-04T13:30:38.039005Z",
          "shell.execute_reply.started": "2025-02-04T13:30:38.029199Z",
          "shell.execute_reply": "2025-02-04T13:30:38.038027Z"
        },
        "id": "osapWLL1f7uY"
      },
      "outputs": [],
      "execution_count": 9
    },
    {
      "cell_type": "code",
      "source": [
        "train_id = [x.split('/')[-1] for x in glob('/content/gastroscopy-512x512-resized-png/train/*.png')]\n",
        "test_id = [x.split('/')[-1] for x in glob('/content/gastroscopy-512x512-resized-png/test/*.png')]\n",
        "\n",
        "train_df = meta_data[meta_data['image_id'].isin(train_id)].reset_index(drop=True)\n",
        "test_df = meta_data[meta_data['image_id'].isin(test_id)].reset_index(drop=True)\n",
        "\n",
        "print('=> Number of Unique Image_id in Train: ', train_df.image_id.nunique())\n",
        "print('=> Number of Unique Image_id in Test: ', test_df.image_id.nunique())"
      ],
      "metadata": {
        "trusted": true,
        "execution": {
          "iopub.status.busy": "2025-02-04T13:30:38.039799Z",
          "iopub.execute_input": "2025-02-04T13:30:38.039998Z",
          "iopub.status.idle": "2025-02-04T13:30:38.095152Z",
          "shell.execute_reply.started": "2025-02-04T13:30:38.03998Z",
          "shell.execute_reply": "2025-02-04T13:30:38.094334Z"
        },
        "id": "rMcIzJ8xf7uY",
        "outputId": "42f2712c-eb30-459e-e3ce-7dd287a4ae73",
        "colab": {
          "base_uri": "https://localhost:8080/"
        }
      },
      "outputs": [
        {
          "output_type": "stream",
          "name": "stdout",
          "text": [
            "=> Number of Unique Image_id in Train:  1597\n",
            "=> Number of Unique Image_id in Test:  400\n"
          ]
        }
      ],
      "execution_count": 10
    },
    {
      "cell_type": "markdown",
      "source": [
        "### Dectectron2 Library Dataset Format\n",
        "\n",
        "![image.png](attachment:642bd6d2-f1b9-4598-84e2-85040eb9fac1.png)"
      ],
      "metadata": {
        "id": "oLewKU_Ff7uY"
      }
    },
    {
      "cell_type": "markdown",
      "source": [
        "\n",
        "<div style=\"border-radius:10px; border:#000000 solid; padding: 15px; font-size:100%;\">\n",
        "\n",
        "\n",
        "📌 **`dataset_dicts`**: Metadata of Image, in Detectron2 Dataset Format\n",
        "\n",
        "To define custom datasets, we need to create list of dict(`dataset_dicts`) where each dict contains following:\n",
        "\n",
        "- `file_name`: file name of the image\n",
        "- `image_id`: id of the image, index is used here.\n",
        "- `height`: height of the image\n",
        "- `width`: width of the image\n",
        "- `annotation`: This the ground truth annotation data for object detection, which contains following:\n",
        "  - `bbox`: bounding box pixel location with shape(n_boxes, 4)\n",
        "  - `bbox_mode`: BoxMode.XYXY_ABS meaning that absolute value of (xmin, ymin, xmax, ymax)\n",
        "  - `category_id`: class label id for each bounding box, with shape(n_boxes,)\n"
      ],
      "metadata": {
        "id": "nETKZTmef7uY"
      }
    },
    {
      "cell_type": "markdown",
      "source": [
        "### Define Dataset_dicts"
      ],
      "metadata": {
        "id": "MvaEYaTwf7uZ"
      }
    },
    {
      "cell_type": "code",
      "source": [
        "from detectron2.structures import BoxMode\n",
        "\n",
        "def get_gastroscopy_dicts(\n",
        "    imgdir: str,\n",
        "    df,\n",
        "    mode: str = 'train',\n",
        "    use_cache: bool = True,\n",
        "    debug: bool = True,\n",
        "    target_indices: list = None\n",
        "):\n",
        "    debug_str = f\"_debug{int(debug)}\"\n",
        "    cache_path = f'/content/dataset_dicts_cache_{mode}{debug_str}.pkl'\n",
        "\n",
        "    if not use_cache or not os.path.exists(cache_path):\n",
        "       print(f'{Fore.BLUE}#'* 25)\n",
        "       print(f'### Creating {mode} Data...')\n",
        "       print('#' * 25)\n",
        "\n",
        "       meta_df = pd.read_csv(f'/content/gastroscopy-512x512-resized-png/{mode}_meta.csv')\n",
        "\n",
        "       if debug:\n",
        "           meta_df = meta_df[:500]\n",
        "\n",
        "       image_id = meta_df.loc[0,'image_id']\n",
        "       image_path = os.path.join(imgdir,mode, image_id)\n",
        "       image = cv2.imread(image_path, cv2.IMREAD_UNCHANGED)\n",
        "       resized_height, resized_width, channel = image.shape\n",
        "       print(f'=> Height of Image: {resized_height}')\n",
        "       print(f'=> Width of Image: {resized_width}')\n",
        "\n",
        "       dataset_dicts = []\n",
        "       for _, (image_id, height, width) in tqdm(meta_df.iterrows(), total=len(meta_df), desc='Build Dataset Dict'):\n",
        "           record = {}\n",
        "           record['file_name'] = os.path.join(imgdir,'train',image_id)\n",
        "           record['image_id'] = image_id\n",
        "           record['height'] = resized_height\n",
        "           record['width'] = resized_width\n",
        "\n",
        "           if mode != 'test':\n",
        "              objs = []\n",
        "              for _, row in df[df.image_id == image_id].iterrows():\n",
        "                  class_id = row['lesion_label']\n",
        "\n",
        "                  h_ratio = resized_height / height\n",
        "                  w_ratio = resized_width / width\n",
        "\n",
        "                  bbox_resized = [\n",
        "                      row['x_min'] * w_ratio,\n",
        "                      row['y_min'] * h_ratio,\n",
        "                      row['x_max'] * w_ratio,\n",
        "                      row['y_max'] * h_ratio,\n",
        "                  ]\n",
        "\n",
        "                  obj = {\n",
        "                     'bbox': bbox_resized,\n",
        "                     'bbox_mode': BoxMode.XYXY_ABS,\n",
        "                     'category_id': class_id,\n",
        "                  }\n",
        "                  objs.append(obj)\n",
        "              record['annotations'] = objs\n",
        "              dataset_dicts.append(record)\n",
        "           else:\n",
        "              dataset_dicts.append(record)\n",
        "       with open(cache_path, mode='wb') as f:\n",
        "           pickle.dump(dataset_dicts, f)\n",
        "    with open(cache_path, mode='rb') as f:\n",
        "        dataset_dicts = pickle.load(f)\n",
        "\n",
        "    if target_indices is not None:\n",
        "        dataset_dicts = [dataset_dicts[i] for i in target_indices]\n",
        "\n",
        "    return dataset_dicts"
      ],
      "metadata": {
        "trusted": true,
        "execution": {
          "iopub.status.busy": "2025-02-04T13:30:38.096069Z",
          "iopub.execute_input": "2025-02-04T13:30:38.0964Z",
          "iopub.status.idle": "2025-02-04T13:30:40.764929Z",
          "shell.execute_reply.started": "2025-02-04T13:30:38.096371Z",
          "shell.execute_reply": "2025-02-04T13:30:40.764291Z"
        },
        "id": "kv-SJ3j6f7uZ"
      },
      "outputs": [],
      "execution_count": 11
    },
    {
      "cell_type": "markdown",
      "source": [
        "### Load Dataset_dicts"
      ],
      "metadata": {
        "id": "3cMBaLTQf7uZ"
      }
    },
    {
      "cell_type": "code",
      "source": [
        "from detectron2.data import DatasetCatalog, MetadataCatalog\n",
        "\n",
        "if CFG.split_mode == 'valid20':\n",
        "    n_dataset = len(\n",
        "        get_gastroscopy_dicts(\n",
        "            CFG.imgdir, train_df, mode='train', debug=CFG.debug)\n",
        "        )\n",
        "\n",
        "    n_train = int(n_dataset * 0.8)\n",
        "    n_valid = n_dataset - n_train\n",
        "    rs = np.random.RandomState(CFG.seed)\n",
        "    inds = rs.permutation(n_dataset)\n",
        "    train_inds, valid_inds = inds[:n_train], inds[n_train:]\n",
        "\n",
        "    print(f'n_train: {len(train_inds)} n_valid: {len(valid_inds)}')\n",
        "\n",
        "    DatasetCatalog.register(\n",
        "        'gastroscopy_train',\n",
        "        lambda: get_gastroscopy_dicts(\n",
        "            CFG.imgdir, train_df, mode='train', debug=CFG.debug, target_indices = train_inds\n",
        "        )\n",
        "    )\n",
        "    MetadataCatalog.get('gastroscopy_train').set(thing_classes = thing_classes)\n",
        "\n",
        "    DatasetCatalog.register(\n",
        "        'gastroscopy_valid',\n",
        "        lambda: get_gastroscopy_dicts(\n",
        "            CFG.imgdir, train_df, mode='train', debug=CFG.debug, target_indices = valid_inds\n",
        "        )\n",
        "    )\n",
        "\n",
        "    MetadataCatalog.get('gastroscopy_valid').set(thing_classes = thing_classes)"
      ],
      "metadata": {
        "trusted": true,
        "execution": {
          "iopub.status.busy": "2025-02-04T13:30:40.765615Z",
          "iopub.execute_input": "2025-02-04T13:30:40.765993Z",
          "iopub.status.idle": "2025-02-04T13:30:42.240351Z",
          "shell.execute_reply.started": "2025-02-04T13:30:40.765972Z",
          "shell.execute_reply": "2025-02-04T13:30:42.239291Z"
        },
        "id": "zRCe18DMf7uZ",
        "outputId": "4e590bbb-1ada-481c-ef35-3906af565611",
        "colab": {
          "base_uri": "https://localhost:8080/"
        }
      },
      "outputs": [
        {
          "output_type": "stream",
          "name": "stdout",
          "text": [
            "\u001b[34m#\u001b[34m#\u001b[34m#\u001b[34m#\u001b[34m#\u001b[34m#\u001b[34m#\u001b[34m#\u001b[34m#\u001b[34m#\u001b[34m#\u001b[34m#\u001b[34m#\u001b[34m#\u001b[34m#\u001b[34m#\u001b[34m#\u001b[34m#\u001b[34m#\u001b[34m#\u001b[34m#\u001b[34m#\u001b[34m#\u001b[34m#\u001b[34m#\n",
            "### Creating train Data...\n",
            "#########################\n",
            "=> Height of Image: 512\n",
            "=> Width of Image: 512\n"
          ]
        },
        {
          "output_type": "stream",
          "name": "stderr",
          "text": [
            "Build Dataset Dict: 100%|██████████| 1597/1597 [00:01<00:00, 1069.74it/s]"
          ]
        },
        {
          "output_type": "stream",
          "name": "stdout",
          "text": [
            "n_train: 1277 n_valid: 320\n"
          ]
        },
        {
          "output_type": "stream",
          "name": "stderr",
          "text": [
            "\n"
          ]
        }
      ],
      "execution_count": 12
    },
    {
      "cell_type": "code",
      "source": [
        "dataset_dicts = get_gastroscopy_dicts(CFG.imgdir, train_df, mode='train', debug=CFG.debug)\n",
        "\n",
        "clean_memory();"
      ],
      "metadata": {
        "trusted": true,
        "execution": {
          "iopub.status.busy": "2025-02-04T13:30:42.241198Z",
          "iopub.execute_input": "2025-02-04T13:30:42.241442Z",
          "iopub.status.idle": "2025-02-04T13:30:42.43503Z",
          "shell.execute_reply.started": "2025-02-04T13:30:42.241412Z",
          "shell.execute_reply": "2025-02-04T13:30:42.434064Z"
        },
        "id": "4I7ZXyNbf7ua"
      },
      "outputs": [],
      "execution_count": 13
    },
    {
      "cell_type": "markdown",
      "source": [
        "## 3. Build DatasetMapper\n",
        "___\n",
        "\n",
        "**`DatasetMapper`**:\n",
        "\n",
        "=> **Load images**\n",
        "\n",
        "=> **transform images and annotations**\n",
        "\n",
        "=> **convert annotations to Instances**\n",
        "\n",
        "**`Dectecron2 Image Augmentation System`**\n",
        "\n",
        "![image.png](attachment:826227e3-3110-4be2-b891-e1d9570aaf0d.png)\n"
      ],
      "metadata": {
        "id": "UE8HPRVTf7ua"
      }
    },
    {
      "cell_type": "markdown",
      "source": [
        "### 📌 Albumentations DatasetMapper\n",
        "\n",
        "But this notebook, I'm gonna use `Albumentations` not use Detectron2 Image Augmentation System"
      ],
      "metadata": {
        "id": "57ltJha9f7ua"
      }
    },
    {
      "cell_type": "code",
      "source": [
        "def get_train_transform():\n",
        "    return A.Compose(\n",
        "               [\n",
        "                A.HorizontalFlip(p=0.5),\n",
        "\n",
        "                ## CLAHE\n",
        "                A.CLAHE(clipLimit=(1,3), tileGridSize=(8,8), p=1.0),\n",
        "\n",
        "\n",
        "                ### Channel Transform\n",
        "                A.OneOf([\n",
        "                    A.ChannelShuffle(p=1.0),\n",
        "                    A.ChannelDropout(p=1.0),\n",
        "                    A.ToGray(p=1.0),\n",
        "                    A.RGBShift(r_shift_limit=[-5,5], g_shift_limit=[-5,5], b_shift_limit=[-5,5], p=1.0)],\n",
        "                    p=0.5),\n",
        "\n",
        "                ### Dropout Transform\n",
        "                A.OneOf([\n",
        "                    A.XYMasking(\n",
        "                        num_masks_x=[1,1],\n",
        "                        num_masks_y=[1,1],\n",
        "                        mask_x_length = [int(CFG.img_size[1] * 0.05),int(CFG.img_size[1] * 0.1)],\n",
        "                        mask_y_length = [int(CFG.img_size[0] * 0.05),int(CFG.img_size[0] * 0.1)],\n",
        "                        p=1.0),\n",
        "                    A.CoarseDropout(\n",
        "                        num_holes_range=[2,4],\n",
        "                        hole_height_range=[int(CFG.img_size[0] * 0.05),int(CFG.img_size[0] * 0.1)],\n",
        "                        hole_width_range=[int(CFG.img_size[1] * 0.05),int(CFG.img_size[1] * 0.1)],p=1.0),\n",
        "                    A.BBoxSafeRandomCrop(\n",
        "                        height=int(CFG.img_size[0] * 0.8),  # 높이 계산\n",
        "                         width=int(CFG.img_size[1] * 0.8), p=1.0),],\n",
        "                    p=0.25),\n",
        "\n",
        "                ## Noisy Transform\n",
        "                A.OneOf([\n",
        "                    A.RandomGravel(number_of_patches=1, p=1.0),\n",
        "                    A.RandomSnow(brightness_coeff=1.1, p=1.0),\n",
        "                ],\n",
        "                    p=0.25\n",
        "                       ),\n",
        "\n",
        "                A.Resize(*CFG.img_size, p=1.0),\n",
        "                ],\n",
        "\n",
        "                bbox_params = A.BboxParams(format='pascal_voc', label_fields = ['category_ids'],)\n",
        "    )\n",
        "\n",
        "def get_valid_transform():\n",
        "    return A.Compose(\n",
        "                [A.Resize(*CFG.img_size, p=1.0),],\n",
        "\n",
        "                bbox_params = A.BboxParams(format='pascal_voc', label_fields = ['category_ids'])\n",
        "    )"
      ],
      "metadata": {
        "trusted": true,
        "execution": {
          "iopub.status.busy": "2025-02-04T13:30:42.436059Z",
          "iopub.execute_input": "2025-02-04T13:30:42.436348Z",
          "iopub.status.idle": "2025-02-04T13:30:42.444722Z",
          "shell.execute_reply.started": "2025-02-04T13:30:42.436324Z",
          "shell.execute_reply": "2025-02-04T13:30:42.443762Z"
        },
        "id": "lu-XrrfDf7ua"
      },
      "outputs": [],
      "execution_count": 14
    },
    {
      "cell_type": "code",
      "source": [
        "import albumentations as A\n",
        "import detectron2.data.transforms as T\n",
        "from detectron2.data import detection_utils as utils\n",
        "\n",
        "class AlbumentationsMapper:\n",
        "    def __init__(self, is_train: bool=True, mixup_prob: float=0.1, mosaic_prob: float=0.25):\n",
        "        self.is_train = is_train\n",
        "        self.mixup_prob = mixup_prob\n",
        "        self.mosaic_prob = mosaic_prob\n",
        "\n",
        "        if self.is_train:\n",
        "            self.transform = get_train_transform()\n",
        "        else:\n",
        "            self.transform = get_valid_transform()\n",
        "\n",
        "\n",
        "        mode='training' if self.is_train else 'inference'\n",
        "        print(f'{Fore.GREEN}[AlbumentationsMapper]{Fore.BLACK} Augmentations used in {mode}: {self.transform}')\n",
        "\n",
        "    def datadict_sampler(self, ds_name=CFG.train_ds, n=3):\n",
        "        ds = DatasetCatalog.get(ds_name)\n",
        "\n",
        "        indices = np.random.randint(0, len(ds) - 1, n)\n",
        "        return [copy.deepcopy(ds[idx]) for idx in indices]\n",
        "\n",
        "    def __mixup_transform(self, dataset_dict):\n",
        "        dataset_dict = copy.deepcopy(dataset_dict)\n",
        "        mu_dict = self.datadict_sampler(n=1)[0]\n",
        "\n",
        "        image = utils.read_image(dataset_dict['file_name'],format=CFG.input_format)\n",
        "        mu_image = utils.read_image(mu_dict['file_name'], format=CFG.input_format)\n",
        "\n",
        "        lam = np.random.beta(2.0, 2.0)\n",
        "        image = (lam * image + (1 - lam) * mu_image).astype(np.uint8)\n",
        "\n",
        "        transform = A.Compose([A.CLAHE(clipLimit=(1,3), tileGridSize=(8,8), p=1.0)])\n",
        "        image = transform(image=image)['image']\n",
        "        dataset_dict['image'] = image\n",
        "        dataset_dict['annotations'] += mu_dict['annotations']\n",
        "\n",
        "        transform = A.Compose([\n",
        "            A.CLAHE(clipLimit=(1,3), tileGridSize=(8,8), p=1.0),  A.Resize(*CFG.img_size, p=1.0),],\n",
        "            bbox_params = A.BboxParams(format='pascal_voc', label_fields = ['category_ids']))\n",
        "\n",
        "        bboxes = np.array([obj['bbox'] for obj in dataset_dict['annotations']], dtype=np.float32)\n",
        "        annotation_id = np.arange(len(dataset_dict['annotations']))\n",
        "\n",
        "        transformed = transform(image=dataset_dict['image'], bboxes=bboxes, category_ids=annotation_id)\n",
        "        dataset_dict['image'] = transformed['image']\n",
        "\n",
        "        for i in transformed['category_ids']:\n",
        "            dataset_dict['annotations'][i]['bbox'] = transformed['bboxes'][i]\n",
        "\n",
        "        return dataset_dict\n",
        "\n",
        "    def __mosaic_transform(self, dataset_dict):\n",
        "        dataset_dict= copy.deepcopy(dataset_dict)\n",
        "        image = utils.read_image(dataset_dict['file_name'],format=CFG.input_format)\n",
        "        im_h, im_w = image.shape[:2]\n",
        "        resized_w = random.randint(int(CFG.img_size[0]*0.75), int(CFG.img_size[0]*1.25))\n",
        "        resized_h = random.randint(int(CFG.img_size[1]*0.75), int(CFG.img_size[1]*1.25))\n",
        "        image = cv2.resize(image, (resized_w, resized_h))\n",
        "        boxes = np.array([anno['bbox'] for anno in dataset_dict['annotations']])\n",
        "        boxes[:,[0,2]] *= resized_w / im_w\n",
        "        boxes[:,[1,3]] *= resized_h / im_h\n",
        "\n",
        "        mo_items = self.datadict_sampler(n=3)\n",
        "        mo_images = []\n",
        "        mo_boxes = []\n",
        "\n",
        "        resize_list = [\n",
        "            [(im_w*2-resized_w),resized_h], [resized_w,(im_h*2-resized_h)], [(im_w*2-resized_w),(im_h*2-resized_h)],\n",
        "        ]\n",
        "\n",
        "        for i, mo_dict in enumerate(mo_items):\n",
        "            mo_image = utils.read_image(mo_dict['file_name'],format=CFG.input_format)\n",
        "            mo_h, mo_w = mo_image.shape[:2]\n",
        "            mo_image = cv2.resize(mo_image, (resize_list[i][0], resize_list[i][1]))\n",
        "            mo_images.append(mo_image)\n",
        "            mo_bbox = np.array([\n",
        "                 anno['bbox'] for anno in mo_dict['annotations']\n",
        "            ])\n",
        "            mo_bbox[:,[0,2]] *= resize_list[i][0] / mo_w\n",
        "            mo_bbox[:,[1,3]] *= resize_list[i][1] / mo_h\n",
        "            mo_boxes.append(mo_bbox)\n",
        "\n",
        "\n",
        "            dataset_dict['annotations'] += mo_dict['annotations']\n",
        "\n",
        "        images = [image] + mo_images\n",
        "        boxes = [boxes] + mo_boxes\n",
        "\n",
        "\n",
        "        heights = [i.shape[0] for i in images]\n",
        "        widths =  [i.shape[1] for i in images]\n",
        "\n",
        "        ch = max(heights[0], heights[1])\n",
        "        cw = max(widths[0], widths[2])\n",
        "        h = (max(heights[0], heights[1]) +\n",
        "             max(heights[2], heights[3]))\n",
        "        w = (max(widths[0], widths[2]) +\n",
        "             max(widths[1], widths[3]))\n",
        "\n",
        "        # pad or start coordinates\n",
        "        y0, x0 = ch - heights[0], cw - widths[0] # Height: 0,  Width: 0\n",
        "        y1, x1 = ch - heights[1], cw # Height: 0, Width: 256\n",
        "        y2, x2 = ch, cw - widths[2] # Height: 256, Width: 0\n",
        "        y3, x3 = ch, cw # Height: 256, Width: 256\n",
        "        x_pads = [x0, x1, x2, x3]\n",
        "        y_pads = [y0, y1, y2, y3]\n",
        "\n",
        "        output = np.zeros((h,w,3)).astype(np.uint8)\n",
        "        for i, img in enumerate(images):\n",
        "            output[y_pads[i]: y_pads[i] + heights[i],\n",
        "                   x_pads[i]: x_pads[i] + widths[i],\n",
        "                   :] = img\n",
        "        transform = A.Compose([A.CLAHE(clipLimit=(1,3), tileGridSize=(8,8), p=1.0)])\n",
        "        output = transform(image=output)['image']\n",
        "        dataset_dict['image'] = output\n",
        "\n",
        "        for i, bbox in enumerate(boxes):\n",
        "            bbox += np.array([x_pads[i], y_pads[i], x_pads[i], y_pads[i]])\n",
        "\n",
        "        boxes = np.vstack(boxes)\n",
        "\n",
        "        for i, box in enumerate(boxes):\n",
        "            dataset_dict['annotations'][i]['bbox'] = box\n",
        "\n",
        "        transform = A.Compose([\n",
        "            A.CLAHE(clipLimit=(1,3), tileGridSize=(8,8), p=1.0),  A.Resize(*CFG.img_size, p=1.0),],\n",
        "                    bbox_params = A.BboxParams(format='pascal_voc', label_fields = ['category_ids']))\n",
        "\n",
        "        bboxes = np.array([obj['bbox'] for obj in dataset_dict['annotations']], dtype=np.float32)\n",
        "        annotation_id = np.arange(len(dataset_dict['annotations']))\n",
        "\n",
        "        transformed = transform(image=dataset_dict['image'], bboxes=bboxes, category_ids=annotation_id)\n",
        "        dataset_dict['image'] = transformed['image']\n",
        "\n",
        "        for i in transformed['category_ids']:\n",
        "            dataset_dict['annotations'][i]['bbox'] = transformed['bboxes'][i]\n",
        "\n",
        "        return dataset_dict\n",
        "\n",
        "    def __call__(self, dataset_dict):\n",
        "        dataset_dict = copy.deepcopy(dataset_dict)\n",
        "\n",
        "        if self.is_train:\n",
        "            if np.random.rand() <= self.mosaic_prob:\n",
        "               dataset_dict = self.__mosaic_transform(dataset_dict)\n",
        "\n",
        "               image = dataset_dict['image']\n",
        "\n",
        "               image_shape = dataset_dict['image'].shape[:2] # height, width\n",
        "               dataset_dict['image'] = torch.as_tensor(dataset_dict['image'].transpose(2,0,1).astype('float32'))\n",
        "\n",
        "               instances = utils.annotations_to_instances(dataset_dict['annotations'], image_shape)\n",
        "               dataset_dict['instances'] = utils.filter_empty_instances(instances)\n",
        "\n",
        "               dataset_dict.pop('annotations', None)\n",
        "\n",
        "               return dataset_dict\n",
        "            elif np.random.rand() <= self.mixup_prob:\n",
        "               dataset_dict = self.__mixup_transform(dataset_dict)\n",
        "\n",
        "\n",
        "               image = dataset_dict['image']\n",
        "\n",
        "               image_shape = dataset_dict['image'].shape[:2] # height, width\n",
        "               dataset_dict['image'] = torch.as_tensor(dataset_dict['image'].transpose(2,0,1).astype('float32'))\n",
        "\n",
        "               instances = utils.annotations_to_instances(dataset_dict['annotations'], image_shape)\n",
        "               dataset_dict['instances'] = utils.filter_empty_instances(instances)\n",
        "\n",
        "               dataset_dict.pop('annotations', None)\n",
        "\n",
        "               return dataset_dict\n",
        "\n",
        "\n",
        "        image = utils.read_image(dataset_dict['file_name'], format=CFG.input_format)\n",
        "\n",
        "        ### Bounding Box\n",
        "        bboxes = np.array([obj['bbox'] for obj in dataset_dict['annotations']], dtype=np.float32)\n",
        "        annotation_id = np.arange(len(dataset_dict['annotations']))\n",
        "\n",
        "        ### Applying Augmentation\n",
        "        transformed = self.transform(image=image, bboxes=bboxes, category_ids=annotation_id)\n",
        "        dataset_dict['image'] = transformed['image']\n",
        "\n",
        "        for i in transformed['category_ids']:\n",
        "            dataset_dict['annotations'][i]['bbox'] = transformed['bboxes'][i]\n",
        "\n",
        "\n",
        "        image_shape = dataset_dict['image'].shape[:2] # height, width\n",
        "        dataset_dict['image'] = torch.as_tensor(dataset_dict['image'].transpose(2,0,1).astype('float32'))\n",
        "\n",
        "        instances = utils.annotations_to_instances(dataset_dict['annotations'], image_shape)\n",
        "        dataset_dict['instances'] = utils.filter_empty_instances(instances)\n",
        "\n",
        "        ## Remove annotations for convert to instances\n",
        "        dataset_dict.pop('annotations', None)\n",
        "\n",
        "        return dataset_dict"
      ],
      "metadata": {
        "trusted": true,
        "execution": {
          "iopub.status.busy": "2025-02-04T13:30:42.448213Z",
          "iopub.execute_input": "2025-02-04T13:30:42.448472Z",
          "iopub.status.idle": "2025-02-04T13:30:43.63468Z",
          "shell.execute_reply.started": "2025-02-04T13:30:42.448448Z",
          "shell.execute_reply": "2025-02-04T13:30:43.633732Z"
        },
        "id": "Yl8Iwi0ef7ua"
      },
      "outputs": [],
      "execution_count": 15
    },
    {
      "cell_type": "markdown",
      "source": [
        "## 4. Build Detectron2 Custom Trainer\n",
        "___"
      ],
      "metadata": {
        "id": "MKS9NJP6f7ub"
      }
    },
    {
      "cell_type": "code",
      "source": [
        "import detectron2\n",
        "from detectron2 import model_zoo # model library\n",
        "from detectron2.config import get_cfg # Get a copy of the default config\n",
        "\n",
        "from detectron2.data.dataset_mapper import DatasetMapper\n",
        "from detectron2.data import build_detection_train_loader, build_detection_test_loader\n",
        "\n",
        "from detectron2.engine import DefaultPredictor, DefaultTrainer\n",
        "\n",
        "from detectron2.solver import build_lr_scheduler, build_optimizer\n",
        "from detectron2.solver.build import get_default_optimizer_params, maybe_add_gradient_clipping\n",
        "\n",
        "from detectron2.evaluation import COCOEvaluator\n",
        "from detectron2.evaluation import PascalVOCDetectionEvaluator\n",
        "\n",
        "from detectron2.utils.logger import setup_logger\n",
        "from detectron2.utils.visualizer import Visualizer, ColorMode\n",
        "\n",
        "setup_logger() # Initialize the detectron2 logger and set its verbosity level to 'debug'\n",
        "\n",
        "class MyTrainer(DefaultTrainer):\n",
        "\n",
        "    @classmethod\n",
        "    def build_train_loader(cls, cfg, sampler=None):\n",
        "        return build_detection_train_loader(\n",
        "            cfg, mapper=AlbumentationsMapper(is_train = True), sampler=sampler\n",
        "        )\n",
        "\n",
        "    @classmethod\n",
        "    def build_test_loader(cls, cfg, dataset_name):\n",
        "        return build_detection_test_loader(\n",
        "            cfg, dataset_name, mapper=AlbumentationsMapper(is_train = False)\n",
        "        )\n",
        "\n",
        "    @classmethod\n",
        "    def build_evaluator(cls, cfg, dataset_name, output_folder=None):\n",
        "        if output_folder is None:\n",
        "            output_folder = os.path.join(cfg.OUTPUT_DIR, 'inference')\n",
        "\n",
        "        return COCOEvaluator(\n",
        "            dataset_name = dataset_name, # name of the dataset to be evaluated\n",
        "            tasks = (\"bbox\",),\n",
        "            distributed = False, # only evalute the results in the current process\n",
        "            output_dir=output_folder)\n",
        "\n",
        "            ## Results predicted on the dataset\n",
        "            ### instances_predictions.pth\n",
        "            ### coco_instances_results.json: json file in COCO's result format"
      ],
      "metadata": {
        "trusted": true,
        "execution": {
          "iopub.status.busy": "2025-02-04T13:30:43.636195Z",
          "iopub.execute_input": "2025-02-04T13:30:43.636526Z",
          "iopub.status.idle": "2025-02-04T13:30:43.902258Z",
          "shell.execute_reply.started": "2025-02-04T13:30:43.636495Z",
          "shell.execute_reply": "2025-02-04T13:30:43.901367Z"
        },
        "id": "yn28_P9Gf7ub"
      },
      "outputs": [],
      "execution_count": 16
    },
    {
      "cell_type": "markdown",
      "source": [
        "## 5. Visualization Gastroscopy Augmentation\n",
        "___"
      ],
      "metadata": {
        "id": "V71eutqKf7uc"
      }
    },
    {
      "cell_type": "code",
      "source": [
        "gastroscopy_metadata = MetadataCatalog.get('gastroscopy_train')\n",
        "print(gastroscopy_metadata)"
      ],
      "metadata": {
        "trusted": true,
        "execution": {
          "iopub.status.busy": "2025-02-04T13:30:43.903026Z",
          "iopub.execute_input": "2025-02-04T13:30:43.903299Z",
          "iopub.status.idle": "2025-02-04T13:30:43.907761Z",
          "shell.execute_reply.started": "2025-02-04T13:30:43.903277Z",
          "shell.execute_reply": "2025-02-04T13:30:43.906732Z"
        },
        "id": "BaKX3EcAf7uc",
        "outputId": "a71c7452-9364-4881-ee32-615141ed1849",
        "colab": {
          "base_uri": "https://localhost:8080/"
        }
      },
      "outputs": [
        {
          "output_type": "stream",
          "name": "stdout",
          "text": [
            "Metadata(name='gastroscopy_train', thing_classes=['Ulcer', 'Polyp', 'Cancer'])\n"
          ]
        }
      ],
      "execution_count": 17
    },
    {
      "cell_type": "code",
      "source": [
        "mapper = AlbumentationsMapper(is_train=True)\n",
        "\n",
        "plt.figure(figsize=(12,8))\n",
        "\n",
        "for i in range(8):\n",
        "    plt.subplot(4,4,2*i+1)\n",
        "    plt.title('Before Augmentation')\n",
        "    d = dataset_dicts[i]\n",
        "    img = Image.open(d['file_name']).convert('RGB')\n",
        "    img = np.array(img)\n",
        "    visualizer = Visualizer(img, metadata=gastroscopy_metadata, scale=1.0)\n",
        "    out = visualizer.draw_dataset_dict(d)\n",
        "    plt.imshow(out.get_image())\n",
        "    #plt.axis('off')\n",
        "\n",
        "    plt.subplot(4,4, 2*i+2)\n",
        "    plt.title('After Augmentation')\n",
        "    mapped_d = mapper(d)\n",
        "    img_arr = mapped_d['image'].cpu().permute(1,2,0).numpy()\n",
        "    # img_arr[:,:,::-1] # BGR -> RGB\n",
        "    visualizer = Visualizer(img_arr[:,:,::-1], metadata=gastroscopy_metadata, scale=1.0)\n",
        "    target_fields = mapped_d['instances'].get_fields()\n",
        "    labels = [gastroscopy_metadata.thing_classes[i] for i in target_fields['gt_classes']]\n",
        "\n",
        "    out = visualizer.overlay_instances(\n",
        "        labels = labels,\n",
        "        boxes = target_fields.get('gt_boxes',None),\n",
        "        masks = target_fields.get('gt_masks',None),\n",
        "        keypoints = target_fields.get('gt_keypoints', None)\n",
        "    )\n",
        "\n",
        "    plt.imshow(out.get_image())\n",
        "    # plt.axis('off')\n",
        "\n",
        "    del out, visualizer, labels\n",
        "\n",
        "plt.tight_layout()\n",
        "plt.show()\n",
        "\n",
        "del mapper; clean_memory()"
      ],
      "metadata": {
        "trusted": true,
        "execution": {
          "iopub.status.busy": "2025-02-04T13:30:43.908464Z",
          "iopub.execute_input": "2025-02-04T13:30:43.908745Z",
          "iopub.status.idle": "2025-02-04T13:30:48.359406Z",
          "shell.execute_reply.started": "2025-02-04T13:30:43.908723Z",
          "shell.execute_reply": "2025-02-04T13:30:48.358355Z"
        },
        "id": "bO52wIhbf7uc",
        "outputId": "c4534354-a162-4ab0-e621-c38a938b031f",
        "colab": {
          "base_uri": "https://localhost:8080/"
        }
      },
      "outputs": [
        {
          "output_type": "stream",
          "name": "stdout",
          "text": [
            "\u001b[32m[AlbumentationsMapper]\u001b[30m Augmentations used in training: Compose([\n",
            "  HorizontalFlip(p=0.5),\n",
            "  CLAHE(p=1.0, clip_limit=(1.0, 4.0), tile_grid_size=(8, 8)),\n",
            "  OneOf([\n",
            "    ChannelShuffle(p=1.0),\n",
            "    ChannelDropout(p=1.0, channel_drop_range=(1, 1), fill_value=0.0),\n",
            "    ToGray(p=1.0, num_output_channels=3, method='weighted_average'),\n",
            "    RGBShift(p=1.0, r_shift_limit=(-5, 5), g_shift_limit=(-5, 5), b_shift_limit=(-5, 5)),\n",
            "  ], p=0.5),\n",
            "  OneOf([\n",
            "    XYMasking(p=1.0, num_masks_x=(1, 1), num_masks_y=(1, 1), mask_x_length=(25, 51), mask_y_length=(25, 51), fill_value=0.0, mask_fill_value=0.0),\n",
            "    CoarseDropout(p=1.0, fill_value=0.0, mask_fill_value=None, num_holes_range=(2, 4), hole_height_range=(25, 51), hole_width_range=(25, 51)),\n",
            "    BBoxSafeRandomCrop(p=1.0, erosion_rate=0.0),\n",
            "  ], p=0.25),\n",
            "  OneOf([\n",
            "    RandomGravel(p=1.0, gravel_roi=(0.1, 0.4, 0.9, 0.9), number_of_patches=1),\n",
            "    RandomSnow(p=1.0, snow_point_range=(0.1, 0.3), brightness_coeff=1.1),\n",
            "  ], p=0.25),\n",
            "  Resize(p=1.0, height=512, width=512, interpolation=1, mask_interpolation=0),\n",
            "], p=1.0, bbox_params={'format': 'pascal_voc', 'label_fields': ['category_ids'], 'min_area': 0.0, 'min_visibility': 0.0, 'min_width': 0.0, 'min_height': 0.0, 'check_each_transform': True, 'clip': False}, keypoint_params=None, additional_targets={}, is_check_shapes=True)\n"
          ]
        }
      ],
      "execution_count": null
    },
    {
      "cell_type": "markdown",
      "source": [
        "## 6. Setting Detectron2 Model Config\n",
        "___\n",
        "\n",
        "📌 [**Detectron2's Default CfgNode**](https://github.com/facebookresearch/detectron2/blob/main/detectron2/config/defaults.pyall)"
      ],
      "metadata": {
        "id": "dN12giOIf7uc"
      }
    },
    {
      "cell_type": "code",
      "source": [
        "from detectron2.config import CfgNode as CN\n",
        "\n",
        "cfg = get_cfg()\n",
        "cfg.OUTPUT_DIR = CFG.output_dir\n",
        "\n",
        "## R_50_FPN_1x, R_50_FPN_3x, R_101_FPN_3x, X_101_32x8d_FPN_3x\n",
        "\n",
        "config_name = \"COCO-Detection/faster_rcnn_R_50_FPN_1x.yaml\"\n",
        "cfg.merge_from_file(model_zoo.get_config_file(config_name))\n",
        "\n",
        "cfg.INPUT.F0RMAT = CFG.input_format\n",
        "cfg.DATASETS.TRAIN = ('gastroscopy_train',)\n",
        "cfg.DATASETS.TEST = ('gastroscopy_valid',)\n",
        "cfg.TEST.EVAL_PREIOD = CFG.eval_period\n",
        "cfg.DATALOADER.NUM_WORKERS = CFG.num_workers\n",
        "\n",
        "cfg.MODEL.WEIGHTS = model_zoo.get_checkpoint_url(config_name)\n",
        "cfg.MODEL.BACKBONE.FREEZE_AT = 2\n",
        "\n",
        "cfg.MODEL.FPN.IN_FEATURES = ['res2','res3','res4','res5']\n",
        "cfg.MODEL.FPN.OUT_CHANNELS = 256\n",
        "cfg.MODEL.FPN.FUSE_TYPE = 'sum'\n",
        "cfg.MODEL.FPN.NORM = \"\"\n",
        "\n",
        "cfg.MODEL.ANCHOR_GENERATOR.SIZES = [[16, 32, 64, 128, 192, 256, 512]]\n",
        "cfg.MODEL.ANCHOR_GENERATOR.ASPECT_RATIOS = [[0.5, 1.0, 2.0]]\n",
        "cfg.MODEL.ANCHOR_GENERATOR.OFFSET = 0.5\n",
        "\n",
        "## RPN Options\n",
        "cfg.MODEL.RPN.IN_FEATURES = [\"p2\", \"p2\", \"p3\", \"p4\",\"p4\",\"p5\", \"p6\"]\n",
        "cfg.MODEL.RPN.IOU_THRESHOLDS = [0.3, 0.7]\n",
        "cfg.MODEL.RPN.BATCH_SIZE_PER_IMAGE = 384\n",
        "cfg.MODEL.RPN.BBOX_REG_LOSS_TYPE = 'ciou' # smooth_l1 -> ciou\n",
        "cfg.MODEL.RPN.BBOX_REG_LOSS_WEIGHT = 1.0\n",
        "cfg.MODEL.RPN.POSITIVE_FRACTION = 0.5\n",
        "cfg.MODEL.RPN.PRE_NMS_TOPK_TRAIN = 2000 # Per FPN Levels\n",
        "cfg.MODEL.RPN.PRE_NMS_TOPK_TEST = 1000 # Per FPN Levels\n",
        "cfg.MODEL.RPN.POST_NMS_TOPK = 1000 # Total\n",
        "cfg.MODEL.RPN.POST_NMS_TOPK_TEST = 500\n",
        "\n",
        "## ROI Options\n",
        "cfg.MODEL.ROI_HEADS.BATCH_SIZE_PER_IMAGE = 512\n",
        "cfg.MODEL.ROI_HEADS.IN_FEATURES = ['p2','p3','p4','p5']\n",
        "cfg.MODEL.ROI_HEADS.POSITIVE_FRACTION = 0.25\n",
        "cfg.MODEL.ROI_HEADS.IOU_THRESHOLDS = [0.5]\n",
        "cfg.MODEL.ROI_HEADS.NUM_CLASSES = len(thing_classes)\n",
        "cfg.MODEL.ROI_BOX_HEAD.POOLR_TYPE = 'ROIAlignV2'\n",
        "cfg.MODEL.ROI_BOX_HEAD.BBOX_RGE_LOSS_TYPE = 'ciou' # smooth_l1 -> ciou\n",
        "cfg.MODEL.ROI_BOX_HEAD.BBOX_REG_LOSS_WEIGHT = 1.0\n",
        "cfg.MODEL.ROI_BOX_HEAD.POOLER_RESOLUTION = 28\n",
        "\n",
        "## Solver(Optimizer and Scheduler Builders)\n",
        "cfg.SOLVER.IMS_PER_BATCH = CFG.ims_per_batch\n",
        "cfg.SOLVER.LR_SCHEDULER_NAME = CFG.lr_scheduler_name\n",
        "cfg.SOLVER.BASE_LR = CFG.base_lr\n",
        "cfg.SOLVER.AMP.ENABLED = CFG.amp\n",
        "cfg.SOLVER.WEIGHT_DECAY = CFG.weight_decay\n",
        "cfg.SOLVER.MAX_ITER = CFG.max_iter\n",
        "cfg.SOLVER.WARMUP_ITERS = CFG.warmup_iters\n",
        "cfg.SOLVER.WARMUP_FACTOR = CFG.warmup_factor\n",
        "cfg.SOLVER.CHECKPOINT_PREIOD = CFG.eval_period\n",
        "\n",
        "## Post Processing\n",
        "cfg.MODEL.ROI_HEADS.SCORE_THRESH_TEST = 0.00 # No More Penalty for adding lower box\n",
        "cfg.MODEL.ROI_HEADS.NMS_THRESH_TEST = 0.5\n",
        "cfg.TEST.DETECTIONS_PER_IMAGE = 100 # 200, 300, 400, 500\n",
        "\n",
        "print(f\"{Fore.BLUE}=> Completed Setting Detectron2's Model Config !\")"
      ],
      "metadata": {
        "trusted": true,
        "execution": {
          "iopub.status.busy": "2025-02-04T13:30:48.3606Z",
          "iopub.execute_input": "2025-02-04T13:30:48.360967Z",
          "iopub.status.idle": "2025-02-04T13:30:48.386638Z",
          "shell.execute_reply.started": "2025-02-04T13:30:48.360926Z",
          "shell.execute_reply": "2025-02-04T13:30:48.385824Z"
        },
        "id": "FIWATAUlf7uc"
      },
      "outputs": [],
      "execution_count": null
    },
    {
      "cell_type": "markdown",
      "source": [
        "### Save Config Yaml"
      ],
      "metadata": {
        "id": "KOfwFJUnf7ud"
      }
    },
    {
      "cell_type": "code",
      "source": [
        "import yaml\n",
        "\n",
        "with open(os.path.join(CFG.output_dir, 'config.yaml'), mode='w') as f:\n",
        "    yaml.dump(cfg.dump(), f, default_flow_style=False, sort_keys=False, indent=4)\n",
        "\n",
        "print(f'{Fore.BLUE}=> Yaml File Completely Saved !')"
      ],
      "metadata": {
        "trusted": true,
        "execution": {
          "iopub.status.busy": "2025-02-04T13:30:48.387657Z",
          "iopub.execute_input": "2025-02-04T13:30:48.387976Z",
          "iopub.status.idle": "2025-02-04T13:30:48.433332Z",
          "shell.execute_reply.started": "2025-02-04T13:30:48.387944Z",
          "shell.execute_reply": "2025-02-04T13:30:48.432546Z"
        },
        "id": "WBYTEiZFf7ud"
      },
      "outputs": [],
      "execution_count": null
    },
    {
      "cell_type": "code",
      "source": [
        "SHOW = False\n",
        "\n",
        "if SHOW:\n",
        "   with open(os.path.join(CFG.output_dir, 'config.yaml'), mode='r') as f:\n",
        "       print(yaml.safe_load(f))"
      ],
      "metadata": {
        "trusted": true,
        "execution": {
          "iopub.status.busy": "2025-02-04T13:30:48.434116Z",
          "iopub.execute_input": "2025-02-04T13:30:48.434371Z",
          "iopub.status.idle": "2025-02-04T13:30:48.438439Z",
          "shell.execute_reply.started": "2025-02-04T13:30:48.43435Z",
          "shell.execute_reply": "2025-02-04T13:30:48.437621Z"
        },
        "id": "9rU3boJFf7ud"
      },
      "outputs": [],
      "execution_count": null
    },
    {
      "cell_type": "markdown",
      "source": [
        "## 7. Training\n",
        "___"
      ],
      "metadata": {
        "id": "c5YoGkw_f7ud"
      }
    },
    {
      "cell_type": "code",
      "source": [
        "trainer = MyTrainer(cfg)\n",
        "\n",
        "trainer.resume_or_load(resume=False) # load last checkpoint or MODEL.WEIGHTS\n",
        "\n",
        "trainer.train()\n",
        "\n",
        "torch.cuda.empty_cache()\n",
        "clean_memory(); del trainer"
      ],
      "metadata": {
        "trusted": true,
        "execution": {
          "iopub.status.busy": "2025-02-04T13:30:48.439395Z",
          "iopub.execute_input": "2025-02-04T13:30:48.43967Z",
          "execution_failed": "2025-02-04T13:32:09.633Z"
        },
        "id": "-bLc9JSpf7ud"
      },
      "outputs": [],
      "execution_count": null
    },
    {
      "cell_type": "markdown",
      "source": [
        "### Visualize Train Metrics"
      ],
      "metadata": {
        "id": "o8vJPdeKf7ur"
      }
    },
    {
      "cell_type": "code",
      "source": [
        "metrics = pd.read_json(os.path.join(CFG.output_dir, 'metrics.json'), orient='records', lines=True)\n",
        "metrics = metrics.sort_values(by=['iteration'])\n",
        "\n",
        "print('Shape of Metrics: ',metrics.shape)\n",
        "metrics.head()"
      ],
      "metadata": {
        "trusted": true,
        "execution": {
          "execution_failed": "2025-02-04T13:32:09.633Z"
        },
        "id": "orMsTH5nf7ur"
      },
      "outputs": [],
      "execution_count": null
    },
    {
      "cell_type": "markdown",
      "source": [
        "- #### Scheduler Graph"
      ],
      "metadata": {
        "id": "WAHLfGsjf7ur"
      }
    },
    {
      "cell_type": "code",
      "source": [
        "print('Scheduler Type is :', CFG.lr_scheduler_name)\n",
        "print('Base Learning Rate is :', CFG.base_lr)\n",
        "print('Iteration is: ', CFG.max_iter)\n",
        "print('Warmup Iteration is: ', CFG.warmup_iters)\n",
        "\n",
        "plt.style.use('default')\n",
        "plt.figure(figsize=(12,6))\n",
        "plt.title(CFG.lr_scheduler_name, size=10)\n",
        "\n",
        "tmp = metrics[~metrics['lr'].isna()]\n",
        "\n",
        "plt.plot(tmp['iteration'], tmp['lr'])\n",
        "plt.xlabel('iterations')\n",
        "plt.ylabel('Learning Rate')\n",
        "\n",
        "plt.show()"
      ],
      "metadata": {
        "trusted": true,
        "execution": {
          "execution_failed": "2025-02-04T13:32:09.633Z"
        },
        "id": "5oH5edwaf7ur"
      },
      "outputs": [],
      "execution_count": null
    },
    {
      "cell_type": "markdown",
      "source": [
        "- #### Foreground & Background Fraction in RPN & ROI"
      ],
      "metadata": {
        "id": "xVcvG447f7ur"
      }
    },
    {
      "cell_type": "code",
      "source": [
        "plt.style.use('Solarize_Light2')\n",
        "plt.figure(figsize=(12,6))\n",
        "\n",
        "plt.subplot(1,2,1)\n",
        "plt.title('RPN Fraction Ratio')\n",
        "tmp = metrics[~metrics['rpn/num_neg_anchors'].isna()]\n",
        "tmp = tmp[~tmp['rpn/num_pos_anchors'].isna()]\n",
        "plt.plot(tmp['iteration'], tmp['rpn/num_neg_anchors'], color='red', label='background')\n",
        "plt.plot([0,tmp['iteration'].max()], [tmp['rpn/num_neg_anchors'].mean(), tmp['rpn/num_neg_anchors'].mean()], '--', color='red')\n",
        "plt.plot(tmp['iteration'], tmp['rpn/num_pos_anchors'], color='blue', label='foreground')\n",
        "plt.plot([0,tmp['iteration'].max()], [tmp['rpn/num_pos_anchors'].mean(),tmp['rpn/num_pos_anchors'].mean()], '--', color='blue')\n",
        "\n",
        "plt.grid(True)\n",
        "plt.legend()\n",
        "\n",
        "plt.subplot(1,2,2)\n",
        "plt.title('ROI Head Fraction Ratio')\n",
        "tmp = metrics[~metrics['roi_head/num_bg_samples'].isna()]\n",
        "tmp = tmp[~tmp['roi_head/num_fg_samples'].isna()]\n",
        "plt.plot(tmp['iteration'], tmp['roi_head/num_bg_samples'], color='red', label='background')\n",
        "plt.plot([0,tmp['iteration'].max()], [tmp['roi_head/num_bg_samples'].mean(), tmp['roi_head/num_bg_samples'].mean()], '--', color='red')\n",
        "plt.plot(tmp['iteration'], tmp['roi_head/num_fg_samples'], color='blue', label='foreground')\n",
        "plt.plot([0,tmp['iteration'].max()], [tmp['roi_head/num_fg_samples'].mean(),tmp['roi_head/num_fg_samples'].mean()], '--', color='blue')\n",
        "\n",
        "plt.grid(True)\n",
        "plt.legend()\n",
        "\n",
        "\n",
        "plt.tight_layout()\n",
        "plt.show()"
      ],
      "metadata": {
        "trusted": true,
        "execution": {
          "execution_failed": "2025-02-04T13:32:09.633Z"
        },
        "id": "p7rOOTvRf7us"
      },
      "outputs": [],
      "execution_count": null
    },
    {
      "cell_type": "markdown",
      "source": [
        "- #### Loss: rpn_loc, rpn_cls, box_reg, box_cls"
      ],
      "metadata": {
        "id": "1yNq26uJf7us"
      }
    },
    {
      "cell_type": "code",
      "source": [
        "plt.style.use('Solarize_Light2')\n",
        "plt.figure(figsize=(12,6))\n",
        "\n",
        "plt.subplot(2,2,1)\n",
        "tmp1 = metrics[~metrics['loss_box_reg'].isna()]\n",
        "plt.plot(tmp1['iteration'], tmp1['loss_box_reg'], color='red', label='box_reg')\n",
        "plt.grid(True); plt.legend()\n",
        "\n",
        "final_iter = tmp1['iteration'].iloc[-1]\n",
        "final_loss = tmp1['loss_box_reg'].iloc[-1]\n",
        "\n",
        "# 그래프에 텍스트 추가\n",
        "plt.text(final_iter, final_loss, f'Final Loss: {final_loss:.4f}',\n",
        "         verticalalignment='bottom', horizontalalignment='right',\n",
        "         fontsize=10, color='black', fontweight='bold')\n",
        "\n",
        "plt.subplot(2,2,2)\n",
        "tmp2 = metrics[~metrics['loss_cls'].isna()]\n",
        "plt.plot(tmp1['iteration'], tmp1['loss_cls'], color='orange', label='box_cls')\n",
        "plt.grid(True); plt.legend()\n",
        "\n",
        "final_iter = tmp2['iteration'].iloc[-1]\n",
        "final_loss = tmp2['loss_cls'].iloc[-1]\n",
        "\n",
        "# 그래프에 텍스트 추가\n",
        "plt.text(final_iter, final_loss, f'Final Loss: {final_loss:.4f}',\n",
        "         verticalalignment='bottom', horizontalalignment='right',\n",
        "         fontsize=10, color='black', fontweight='bold')\n",
        "\n",
        "plt.subplot(2,2,3)\n",
        "tmp3 = metrics[~metrics['loss_rpn_cls'].isna()]\n",
        "plt.plot(tmp1['iteration'], tmp1['loss_rpn_cls'], color='green', label='rpn_cls')\n",
        "plt.grid(True); plt.legend()\n",
        "\n",
        "final_iter = tmp3['iteration'].iloc[-1]\n",
        "final_loss = tmp3['loss_rpn_cls'].iloc[-1]\n",
        "\n",
        "# 그래프에 텍스트 추가\n",
        "plt.text(final_iter, final_loss, f'Final Loss: {final_loss:.4f}',\n",
        "         verticalalignment='bottom', horizontalalignment='right',\n",
        "         fontsize=10, color='black', fontweight='bold')\n",
        "\n",
        "plt.subplot(2,2,4)\n",
        "tmp4 = metrics[~metrics['loss_rpn_loc'].isna()]\n",
        "plt.plot(tmp1['iteration'], tmp1['loss_rpn_loc'], color='skyblue', label='rpn_loc')\n",
        "plt.grid(True); plt.legend()\n",
        "\n",
        "final_iter = tmp4['iteration'].iloc[-1]\n",
        "final_loss = tmp4['loss_rpn_cls'].iloc[-1]\n",
        "\n",
        "# 그래프에 텍스트 추가\n",
        "plt.text(final_iter, final_loss + 0.2, f'Final Loss: {final_loss:.4f}',\n",
        "         verticalalignment='bottom', horizontalalignment='right',\n",
        "         fontsize=10, color='black', fontweight='bold')\n",
        "\n",
        "plt.tight_layout()\n",
        "plt.show()"
      ],
      "metadata": {
        "trusted": true,
        "execution": {
          "execution_failed": "2025-02-04T13:32:09.633Z"
        },
        "id": "bLs9GlxWf7us"
      },
      "outputs": [],
      "execution_count": null
    },
    {
      "cell_type": "markdown",
      "source": [
        "### Visualize Valid Metric"
      ],
      "metadata": {
        "id": "KU9i73rZf7us"
      }
    },
    {
      "cell_type": "code",
      "source": [
        "!pip -q install palettable\n",
        "import palettable.colorbrewer.qualitative as pbq\n",
        "\n",
        "bbox_tmp = metrics[['bbox/AP','bbox/AP50', 'bbox/AP50', 'bbox/APl', 'bbox/APm', 'bbox/APs']]\n",
        "\n",
        "plt.title('Bbox AP in Valid Dataset', size=10)\n",
        "ax = plt.barh(y=['bbox-AP', 'bbox-AP50', 'bbox-AP75', 'bbox-APl', 'bbox-APm', 'bbox-APs'],\n",
        "        width=[metrics.iloc[-1]['bbox/AP'], metrics.iloc[-1]['bbox/AP50'], metrics.iloc[-1]['bbox/AP75'], metrics.iloc[-1]['bbox/APl'],\n",
        "           metrics.iloc[-1]['bbox/APm'], metrics.iloc[-1]['bbox/APs'],],\n",
        "        color=pbq.Pastel1_7.hex_colors, edgecolor='white',\n",
        "        label=['bbox-AP', 'bbox-AP50', 'bbox-AP75', 'bbox-APl', 'bbox-APm', 'bbox-APs'])\n",
        "\n",
        "for rect in ax.patches:\n",
        "    x = rect.get_width()\n",
        "    y = rect.get_y() + rect.get_height()/2.0\n",
        "    plt.text(x, y, f'{x:.2f}', ha='left', va='center', size=10, color='blue')\n",
        "\n",
        "plt.legend()\n",
        "plt.show()"
      ],
      "metadata": {
        "trusted": true,
        "execution": {
          "execution_failed": "2025-02-04T13:32:09.633Z"
        },
        "id": "HXf7VdwVf7us"
      },
      "outputs": [],
      "execution_count": null
    },
    {
      "cell_type": "markdown",
      "source": [
        "- #### AP by class"
      ],
      "metadata": {
        "id": "lB80vsayf7us"
      }
    },
    {
      "cell_type": "code",
      "source": [
        "plt.style.use('default')\n",
        "plt.figure(figsize=(12,6))\n",
        "\n",
        "bbox_tmp = metrics[[f'bbox/AP-{col}' for col in thing_classes]]\n",
        "\n",
        "plt.title('AP by Class', size=10)\n",
        "ax = plt.bar(\n",
        "    x=[f'bbox/AP-{col}' for col in thing_classes],\n",
        "    height=[metrics.iloc[-1][f'bbox/AP-{col}'] for col in thing_classes],\n",
        "    color=pbq.Pastel1_7.hex_colors,\n",
        "    edgecolor='white',\n",
        "    label=[f'bbox/AP-{col}' for col in thing_classes]\n",
        ")\n",
        "\n",
        "# 막대 위에 텍스트 추가\n",
        "for rect in ax.patches:\n",
        "    x = rect.get_x() + rect.get_width() / 2.0  # 막대 중앙 x좌표\n",
        "    y = rect.get_height()  # 막대 길이\n",
        "    plt.text(x, y, f'{y:.2f}', ha='center', va='bottom', size=10, color='gray')  # 텍스트 위치 조정\n",
        "\n",
        "\n",
        "plt.legend()\n",
        "plt.xticks(rotation=60)\n",
        "plt.show()"
      ],
      "metadata": {
        "trusted": true,
        "execution": {
          "execution_failed": "2025-02-04T13:32:09.633Z"
        },
        "id": "ye1iv02Ff7ut"
      },
      "outputs": [],
      "execution_count": null
    },
    {
      "cell_type": "code",
      "source": [],
      "metadata": {
        "trusted": true,
        "id": "P9UuWxrHf7ut"
      },
      "outputs": [],
      "execution_count": null
    }
  ]
}